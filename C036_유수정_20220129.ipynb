{
 "cells": [
  {
   "cell_type": "code",
   "execution_count": 2,
   "id": "e6ea3bae",
   "metadata": {},
   "outputs": [
    {
     "name": "stdout",
     "output_type": "stream",
     "text": [
      "7\n",
      "8\n",
      "10\n",
      "13\n",
      "15\n",
      "19\n",
      "20\n",
      "23\n",
      "25\n",
      "7\n",
      "8\n",
      "10\n",
      "13\n",
      "19\n",
      "20\n",
      "23\n"
     ]
    }
   ],
   "source": [
    "l = []\n",
    "\n",
    "for i in range(9):\n",
    "    n = int(input())\n",
    "    l.append(n)\n",
    "\n",
    "flag = 0\n",
    "for i in range(9):\n",
    "    for j in range(i):\n",
    "        temp1 = l[i]\n",
    "        temp2 = l[j]\n",
    "        \n",
    "        l[i] = 0\n",
    "        l[j] = 0\n",
    "        \n",
    "        if(sum(l) == 100):\n",
    "            flag = 1\n",
    "            break\n",
    "        else:\n",
    "            l[i] = temp1\n",
    "            l[j] = temp2\n",
    "    if flag == 1:\n",
    "        break\n",
    "\n",
    "for i in range(9):\n",
    "    if l[i] != 0:\n",
    "        print(l[i])"
   ]
  },
  {
   "cell_type": "code",
   "execution_count": null,
   "id": "b0aba4d9",
   "metadata": {},
   "outputs": [],
   "source": []
  }
 ],
 "metadata": {
  "kernelspec": {
   "display_name": "Python 3 (ipykernel)",
   "language": "python",
   "name": "python3"
  },
  "language_info": {
   "codemirror_mode": {
    "name": "ipython",
    "version": 3
   },
   "file_extension": ".py",
   "mimetype": "text/x-python",
   "name": "python",
   "nbconvert_exporter": "python",
   "pygments_lexer": "ipython3",
   "version": "3.9.7"
  }
 },
 "nbformat": 4,
 "nbformat_minor": 5
}
