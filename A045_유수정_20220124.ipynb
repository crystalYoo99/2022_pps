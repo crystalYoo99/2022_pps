{
 "cells": [
  {
   "cell_type": "code",
   "execution_count": 9,
   "id": "0e56dc62",
   "metadata": {},
   "outputs": [
    {
     "name": "stdout",
     "output_type": "stream",
     "text": [
      "Mississipi\n",
      "?\n"
     ]
    }
   ],
   "source": [
    "#https://www.acmicpc.net/problem/1157\n",
    "s = input()\n",
    "s = s.upper()\n",
    "cnt_arr = [0 for i in range(26)]\n",
    "\n",
    "for i in range(len(s)):\n",
    "    cnt_arr[ord(s[i])-65] += 1\n",
    "    \n",
    "max_cnt = max(cnt_arr)\n",
    "temp = 0\n",
    "for i in range(26):\n",
    "    if cnt_arr[i] == max_cnt and temp == 0:\n",
    "        max_cnt = cnt_arr[i]\n",
    "        max_cha = chr(i+65)\n",
    "        temp+=1\n",
    "    elif cnt_arr[i] == max_cnt and temp != 0:\n",
    "        temp += 1\n",
    "        break\n",
    "    \n",
    "if temp == 1:\n",
    "    print(max_cha)\n",
    "else:\n",
    "    print('?')"
   ]
  },
  {
   "cell_type": "code",
   "execution_count": null,
   "id": "d5e750f4",
   "metadata": {},
   "outputs": [],
   "source": []
  }
 ],
 "metadata": {
  "kernelspec": {
   "display_name": "Python 3 (ipykernel)",
   "language": "python",
   "name": "python3"
  },
  "language_info": {
   "codemirror_mode": {
    "name": "ipython",
    "version": 3
   },
   "file_extension": ".py",
   "mimetype": "text/x-python",
   "name": "python",
   "nbconvert_exporter": "python",
   "pygments_lexer": "ipython3",
   "version": "3.9.7"
  }
 },
 "nbformat": 4,
 "nbformat_minor": 5
}
