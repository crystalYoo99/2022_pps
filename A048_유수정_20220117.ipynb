{
 "cells": [
  {
   "cell_type": "code",
   "execution_count": 14,
   "id": "4093f7a3",
   "metadata": {},
   "outputs": [
    {
     "name": "stdout",
     "output_type": "stream",
     "text": [
      "1\n",
      "z\n",
      "1\n"
     ]
    }
   ],
   "source": [
    "#https://www.acmicpc.net/problem/1316\n",
    "n = int(input())\n",
    "cnt_group = 0\n",
    "\n",
    "for i in range(n):\n",
    "    s = input()\n",
    "    \n",
    "    cnt = 1\n",
    "    prev = s[0]\n",
    "    for j in range(len(s)):\n",
    "        if s[j] != prev:\n",
    "            prev= s[j]\n",
    "            cnt += 1\n",
    "    \n",
    "    if cnt == len(set(s)):\n",
    "        cnt_group += 1\n",
    "        \n",
    "print(cnt_group)"
   ]
  },
  {
   "cell_type": "code",
   "execution_count": null,
   "id": "110f4486",
   "metadata": {},
   "outputs": [],
   "source": []
  }
 ],
 "metadata": {
  "kernelspec": {
   "display_name": "Python 3 (ipykernel)",
   "language": "python",
   "name": "python3"
  },
  "language_info": {
   "codemirror_mode": {
    "name": "ipython",
    "version": 3
   },
   "file_extension": ".py",
   "mimetype": "text/x-python",
   "name": "python",
   "nbconvert_exporter": "python",
   "pygments_lexer": "ipython3",
   "version": "3.9.7"
  }
 },
 "nbformat": 4,
 "nbformat_minor": 5
}
