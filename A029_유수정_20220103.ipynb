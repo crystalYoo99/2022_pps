{
 "cells": [
  {
   "cell_type": "code",
   "execution_count": 2,
   "id": "297c4d2a",
   "metadata": {},
   "outputs": [
    {
     "name": "stdout",
     "output_type": "stream",
     "text": [
      "10\n",
      "1\n",
      "Love is open door\n"
     ]
    }
   ],
   "source": [
    "n = int(input())\n",
    "num = int(input())\n",
    "\n",
    "if n > 5:\n",
    "    print(\"Love is open door\")\n",
    "\n",
    "else:\n",
    "    for i in range(n-1):\n",
    "        if num == 1:\n",
    "            print(0)\n",
    "            num = 0\n",
    "        else:\n",
    "            print(1)\n",
    "            num = 1"
   ]
  },
  {
   "cell_type": "code",
   "execution_count": null,
   "id": "86961060",
   "metadata": {},
   "outputs": [],
   "source": []
  }
 ],
 "metadata": {
  "kernelspec": {
   "display_name": "Python 3 (ipykernel)",
   "language": "python",
   "name": "python3"
  },
  "language_info": {
   "codemirror_mode": {
    "name": "ipython",
    "version": 3
   },
   "file_extension": ".py",
   "mimetype": "text/x-python",
   "name": "python",
   "nbconvert_exporter": "python",
   "pygments_lexer": "ipython3",
   "version": "3.9.7"
  }
 },
 "nbformat": 4,
 "nbformat_minor": 5
}
