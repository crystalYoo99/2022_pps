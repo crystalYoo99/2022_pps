{
 "cells": [
  {
   "cell_type": "code",
   "execution_count": 4,
   "id": "6d450961",
   "metadata": {},
   "outputs": [
    {
     "name": "stdout",
     "output_type": "stream",
     "text": [
      "7\n",
      "0 0 1 0 0 1 0\n",
      "[0, 0, 1, 1, 1, 0, 0]\n",
      "[0, 0, 1, 0, 0, 1, 0]\n"
     ]
    }
   ],
   "source": [
    "n = int(input())\n",
    "l = list(map(int, input().split()))\n",
    "cur = [0 for _ in range(n)]\n",
    "cnt = 0\n",
    "\n",
    "for i in range(n):\n",
    "    if l[i] != cur[i]:\n",
    "        cnt += 1\n",
    "        \n",
    "        cur[i] = 1-cur[i]\n",
    "        if i < n-1:\n",
    "            cur[i+1] = 1-cur[i+1]\n",
    "        if i < n-2:\n",
    "            cur[i+2] = 1-cur[i+2]\n",
    "print(cnt)"
   ]
  },
  {
   "cell_type": "code",
   "execution_count": null,
   "id": "27a5f056",
   "metadata": {},
   "outputs": [],
   "source": []
  }
 ],
 "metadata": {
  "kernelspec": {
   "display_name": "Python 3 (ipykernel)",
   "language": "python",
   "name": "python3"
  },
  "language_info": {
   "codemirror_mode": {
    "name": "ipython",
    "version": 3
   },
   "file_extension": ".py",
   "mimetype": "text/x-python",
   "name": "python",
   "nbconvert_exporter": "python",
   "pygments_lexer": "ipython3",
   "version": "3.9.7"
  }
 },
 "nbformat": 4,
 "nbformat_minor": 5
}
