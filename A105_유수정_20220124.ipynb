{
 "cells": [
  {
   "cell_type": "code",
   "execution_count": 24,
   "id": "f54113d8",
   "metadata": {},
   "outputs": [
    {
     "name": "stdout",
     "output_type": "stream",
     "text": [
      "14\n",
      "2/4\n"
     ]
    }
   ],
   "source": [
    "#https://www.acmicpc.net/problem/1193\n",
    "\n",
    "n = int(input())\n",
    "cnt = 1\n",
    "while 1:\n",
    "    if n <= cnt:\n",
    "        break\n",
    "    n -= cnt\n",
    "    cnt += 1\n",
    "    \n",
    "if cnt%2 == 0:\n",
    "    print('%d/%d'%(n, cnt-n+1))\n",
    "else:\n",
    "    print('%d/%d'%(cnt-n+1, n))"
   ]
  },
  {
   "cell_type": "markdown",
   "id": "0e7116eb",
   "metadata": {},
   "source": [
    "#### "
   ]
  }
 ],
 "metadata": {
  "kernelspec": {
   "display_name": "Python 3 (ipykernel)",
   "language": "python",
   "name": "python3"
  },
  "language_info": {
   "codemirror_mode": {
    "name": "ipython",
    "version": 3
   },
   "file_extension": ".py",
   "mimetype": "text/x-python",
   "name": "python",
   "nbconvert_exporter": "python",
   "pygments_lexer": "ipython3",
   "version": "3.9.7"
  }
 },
 "nbformat": 4,
 "nbformat_minor": 5
}
