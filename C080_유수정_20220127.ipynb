{
 "cells": [
  {
   "cell_type": "code",
   "execution_count": 8,
   "id": "dc3c73ea",
   "metadata": {},
   "outputs": [
    {
     "name": "stdout",
     "output_type": "stream",
     "text": [
      "10 13\n",
      "BBBBBBBBWBWBW\n",
      "BBBBBBBBBWBWB\n",
      "BBBBBBBBWBWBW\n",
      "BBBBBBBBBWBWB\n",
      "BBBBBBBBWBWBW\n",
      "BBBBBBBBBWBWB\n",
      "BBBBBBBBWBWBW\n",
      "BBBBBBBBBWBWB\n",
      "WWWWWWWWWWBWB\n",
      "WWWWWWWWWWBWB\n",
      "12\n"
     ]
    }
   ],
   "source": [
    "#https://www.acmicpc.net/problem/1018\n",
    "n, m = map(int, input().split())\n",
    "l = []\n",
    "\n",
    "count = []\n",
    "\n",
    "for i in range(n):\n",
    "    l.append(list(input()))\n",
    "\n",
    "for k in range(n-7):\n",
    "    for o in range(m-7):\n",
    "        cnt_w =0 \n",
    "        cnt_b =0\n",
    "        \n",
    "        for i in range(k, k+8):\n",
    "            for j in range(o, o+8):\n",
    "                if i%2 == 0 and j%2 == 0:\n",
    "                    if l[i][j] == 'W':\n",
    "                        cnt_b += 1\n",
    "                    else:\n",
    "                        cnt_w += 1\n",
    "                elif i%2 == 0 and j%2 == 1:\n",
    "                    if l[i][j] == 'W':\n",
    "                        cnt_w += \n",
    "                    else:\n",
    "                        cnt_b += 1\n",
    "                elif i%2 == 1 and j%2 == 0:\n",
    "                    if l[i][j] == 'W':\n",
    "                        cnt_w += 1\n",
    "                    else:\n",
    "                        cnt_b += 1\n",
    "                else:\n",
    "                    if l[i][j] == 'W':\n",
    "                        cnt_b += 1\n",
    "                    else:\n",
    "                        cnt_w += 1\n",
    "        count.append(min(cnt_b, cnt_w))\n",
    "    \n",
    "    \n",
    "print(min(count))"
   ]
  },
  {
   "cell_type": "code",
   "execution_count": 6,
   "id": "b310cb5f",
   "metadata": {},
   "outputs": [
    {
     "name": "stdout",
     "output_type": "stream",
     "text": [
      "63\n"
     ]
    }
   ],
   "source": [
    "print(answer)"
   ]
  },
  {
   "cell_type": "code",
   "execution_count": null,
   "id": "2c77be0a",
   "metadata": {},
   "outputs": [],
   "source": []
  }
 ],
 "metadata": {
  "kernelspec": {
   "display_name": "Python 3 (ipykernel)",
   "language": "python",
   "name": "python3"
  },
  "language_info": {
   "codemirror_mode": {
    "name": "ipython",
    "version": 3
   },
   "file_extension": ".py",
   "mimetype": "text/x-python",
   "name": "python",
   "nbconvert_exporter": "python",
   "pygments_lexer": "ipython3",
   "version": "3.9.7"
  }
 },
 "nbformat": 4,
 "nbformat_minor": 5
}
