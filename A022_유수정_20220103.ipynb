{
 "cells": [
  {
   "cell_type": "code",
   "execution_count": 17,
   "id": "00b5c2e1",
   "metadata": {},
   "outputs": [
    {
     "name": "stdout",
     "output_type": "stream",
     "text": [
      "2\n",
      "61 10\n",
      "Y 40\n"
     ]
    }
   ],
   "source": [
    "n = int(input())\n",
    "l = list(map(int, input().split()))\n",
    "y = 0\n",
    "m = 0\n",
    "\n",
    "for i in l:\n",
    "    i = i+1\n",
    "    y += ((i//30)*10)\n",
    "    if i%30 != 0:\n",
    "        y += 10\n",
    "    m += ((i//60)*15)\n",
    "    if i%60 != 0:\n",
    "        m += 15\n",
    "\n",
    "if m < y:\n",
    "    print(\"M %d\"%m)\n",
    "elif m == y:\n",
    "    print(\"Y M %d\"%m)\n",
    "else:\n",
    "    print(\"Y %d\"%y)"
   ]
  },
  {
   "cell_type": "code",
   "execution_count": 12,
   "id": "a08ce5ef",
   "metadata": {},
   "outputs": [
    {
     "data": {
      "text/plain": [
       "10"
      ]
     },
     "execution_count": 12,
     "metadata": {},
     "output_type": "execute_result"
    }
   ],
   "source": [
    "10%30"
   ]
  },
  {
   "cell_type": "code",
   "execution_count": null,
   "id": "9dc6f0f1",
   "metadata": {},
   "outputs": [],
   "source": []
  }
 ],
 "metadata": {
  "kernelspec": {
   "display_name": "Python 3 (ipykernel)",
   "language": "python",
   "name": "python3"
  },
  "language_info": {
   "codemirror_mode": {
    "name": "ipython",
    "version": 3
   },
   "file_extension": ".py",
   "mimetype": "text/x-python",
   "name": "python",
   "nbconvert_exporter": "python",
   "pygments_lexer": "ipython3",
   "version": "3.9.7"
  }
 },
 "nbformat": 4,
 "nbformat_minor": 5
}
