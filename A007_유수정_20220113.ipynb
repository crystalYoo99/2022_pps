{
 "cells": [
  {
   "cell_type": "code",
   "execution_count": 6,
   "id": "741acfee",
   "metadata": {},
   "outputs": [
    {
     "name": "stdout",
     "output_type": "stream",
     "text": [
      "1 2 3 4 5 6 7 8\n",
      "[1, 2, 3, 4, 5, 6, 7, 8]\n",
      "ascending\n"
     ]
    }
   ],
   "source": [
    "#https://www.acmicpc.net/problem/2920\n",
    "import sys\n",
    "s = list(map(int, input().split()))\n",
    "\n",
    "if s == sorted(s):\n",
    "    print(\"ascending\")\n",
    "elif s == sorted(s, reverse =True):\n",
    "    print(\"descending\")\n",
    "else:\n",
    "    print(\"mixed\")"
   ]
  },
  {
   "cell_type": "code",
   "execution_count": null,
   "id": "be0df928",
   "metadata": {},
   "outputs": [],
   "source": []
  }
 ],
 "metadata": {
  "kernelspec": {
   "display_name": "Python 3 (ipykernel)",
   "language": "python",
   "name": "python3"
  },
  "language_info": {
   "codemirror_mode": {
    "name": "ipython",
    "version": 3
   },
   "file_extension": ".py",
   "mimetype": "text/x-python",
   "name": "python",
   "nbconvert_exporter": "python",
   "pygments_lexer": "ipython3",
   "version": "3.9.7"
  }
 },
 "nbformat": 4,
 "nbformat_minor": 5
}
