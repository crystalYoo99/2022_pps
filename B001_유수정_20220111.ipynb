{
 "cells": [
  {
   "cell_type": "code",
   "execution_count": 12,
   "id": "f4f31fe4",
   "metadata": {},
   "outputs": [
    {
     "name": "stdout",
     "output_type": "stream",
     "text": [
      "7\n",
      "6\n",
      "1 2\n",
      "2 3\n",
      "1 5\n",
      "5 2\n",
      "5 6\n",
      "4 7\n",
      "5\n"
     ]
    }
   ],
   "source": [
    "n = int(input())\n",
    "m = int(input())\n",
    "l = [0 for i in range(n+1)]\n",
    "\n",
    "matrix = [[0]*(n+1) for i in range(n+1)]\n",
    "\n",
    "for i in range(m):\n",
    "    a, b = map(int, input().split())\n",
    "    matrix[a][b] = 1\n",
    "    matrix[b][a] = 1\n",
    "\n",
    "def dfs(v):\n",
    "    l[v] = 1\n",
    "    for i in range(n+1):\n",
    "        if (l[i] == 0 and matrix[v][i] == 1):\n",
    "            dfs(i)\n",
    "            \n",
    "dfs(1)\n",
    "#print(cnt)\n",
    "print(sum(l)-1)"
   ]
  },
  {
   "cell_type": "code",
   "execution_count": null,
   "id": "8def6407",
   "metadata": {},
   "outputs": [],
   "source": []
  }
 ],
 "metadata": {
  "kernelspec": {
   "display_name": "Python 3 (ipykernel)",
   "language": "python",
   "name": "python3"
  },
  "language_info": {
   "codemirror_mode": {
    "name": "ipython",
    "version": 3
   },
   "file_extension": ".py",
   "mimetype": "text/x-python",
   "name": "python",
   "nbconvert_exporter": "python",
   "pygments_lexer": "ipython3",
   "version": "3.9.7"
  }
 },
 "nbformat": 4,
 "nbformat_minor": 5
}
