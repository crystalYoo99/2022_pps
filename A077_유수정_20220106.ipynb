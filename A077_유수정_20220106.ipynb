{
 "cells": [
  {
   "cell_type": "code",
   "execution_count": 29,
   "id": "e793148b",
   "metadata": {},
   "outputs": [
    {
     "name": "stdout",
     "output_type": "stream",
     "text": [
      "20\n",
      "30\n",
      "50\n",
      "48\n",
      "33\n",
      "66\n",
      "0\n",
      "64\n",
      "261\n",
      "3 4 5 6 8 "
     ]
    }
   ],
   "source": [
    "l = []\n",
    "\n",
    "for i in range(8):\n",
    "    n = int(input())\n",
    "    l.append([n, i])\n",
    "\n",
    "\n",
    "l.sort(key=lambda num: num[0])\n",
    "\n",
    "max_sum = 0\n",
    "idx = []\n",
    "\n",
    "for i in range(3, 8):\n",
    "    max_sum += l[i][0]\n",
    "    idx.append(l[i][1])\n",
    "\n",
    "idx.sort()\n",
    "print(max_sum)\n",
    "\n",
    "for i in range(5):\n",
    "    print(idx[i]+1, end = ' ')\n",
    "    "
   ]
  },
  {
   "cell_type": "markdown",
   "id": "070a87df",
   "metadata": {},
   "source": [
    "### "
   ]
  }
 ],
 "metadata": {
  "kernelspec": {
   "display_name": "Python 3 (ipykernel)",
   "language": "python",
   "name": "python3"
  },
  "language_info": {
   "codemirror_mode": {
    "name": "ipython",
    "version": 3
   },
   "file_extension": ".py",
   "mimetype": "text/x-python",
   "name": "python",
   "nbconvert_exporter": "python",
   "pygments_lexer": "ipython3",
   "version": "3.9.7"
  }
 },
 "nbformat": 4,
 "nbformat_minor": 5
}
