{
 "cells": [
  {
   "cell_type": "code",
   "execution_count": 8,
   "id": "073abf44",
   "metadata": {},
   "outputs": [
    {
     "name": "stdout",
     "output_type": "stream",
     "text": [
      "39\n",
      "40\n",
      "41\n",
      "42\n",
      "43\n",
      "44\n",
      "82\n",
      "83\n",
      "84\n",
      "85\n",
      "6\n"
     ]
    }
   ],
   "source": [
    "#https://www.acmicpc.net/problem/3052\n",
    "\n",
    "left = [0 for i in range(42)]\n",
    "cnt = 0\n",
    "for i in range(10):\n",
    "    num = int(input())\n",
    "    left[num%42] += 1\n",
    "\n",
    "for i in range(42):\n",
    "    if left[i] != 0:\n",
    "        cnt+=1\n",
    "print(cnt)"
   ]
  },
  {
   "cell_type": "code",
   "execution_count": null,
   "id": "85e30206",
   "metadata": {},
   "outputs": [],
   "source": []
  }
 ],
 "metadata": {
  "kernelspec": {
   "display_name": "Python 3 (ipykernel)",
   "language": "python",
   "name": "python3"
  },
  "language_info": {
   "codemirror_mode": {
    "name": "ipython",
    "version": 3
   },
   "file_extension": ".py",
   "mimetype": "text/x-python",
   "name": "python",
   "nbconvert_exporter": "python",
   "pygments_lexer": "ipython3",
   "version": "3.9.7"
  }
 },
 "nbformat": 4,
 "nbformat_minor": 5
}
