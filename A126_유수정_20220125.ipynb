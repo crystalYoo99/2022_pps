{
 "cells": [
  {
   "cell_type": "code",
   "execution_count": 20,
   "id": "c35ec77f",
   "metadata": {},
   "outputs": [
    {
     "name": "stdout",
     "output_type": "stream",
     "text": [
      "500\n",
      "119\n"
     ]
    }
   ],
   "source": [
    "#https://www.acmicpc.net/problem/1065\n",
    "def han(num):\n",
    "    if num//10 == 0:\n",
    "        return True\n",
    "    snum = str(num)\n",
    "    prev = int(snum[1]) - int(snum[0])\n",
    "    for i in range(len(snum)-1):\n",
    "        diff = int(snum[i+1]) - int(snum[i])\n",
    "        if diff != prev:\n",
    "            return False\n",
    "    return True\n",
    "\n",
    "n = int(input())\n",
    "cnt = 0\n",
    "\n",
    "for x in range(1, n+1):\n",
    "    if(han(x) == True):\n",
    "        cnt += 1\n",
    "        \n",
    "print(cnt)"
   ]
  }
 ],
 "metadata": {
  "kernelspec": {
   "display_name": "Python 3 (ipykernel)",
   "language": "python",
   "name": "python3"
  },
  "language_info": {
   "codemirror_mode": {
    "name": "ipython",
    "version": 3
   },
   "file_extension": ".py",
   "mimetype": "text/x-python",
   "name": "python",
   "nbconvert_exporter": "python",
   "pygments_lexer": "ipython3",
   "version": "3.9.7"
  }
 },
 "nbformat": 4,
 "nbformat_minor": 5
}
