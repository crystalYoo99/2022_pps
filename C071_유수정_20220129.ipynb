{
 "cells": [
  {
   "cell_type": "code",
   "execution_count": 5,
   "id": "c9b34c5b",
   "metadata": {},
   "outputs": [
    {
     "name": "stdout",
     "output_type": "stream",
     "text": [
      "8\n",
      "12 20 1 3 4 4 11 1\n",
      "8\n"
     ]
    }
   ],
   "source": [
    "n = int(input())\n",
    "l = []\n",
    "max_l = 0\n",
    "input_l = list(map(int, input().split()))\n",
    "\n",
    "for i in range(n):\n",
    "    if len(l) == 0:\n",
    "        l.append(input_l[i])\n",
    "    else:\n",
    "        if l[len(l)-1] < input_l[i]:\n",
    "            l.append(input_l[i])\n",
    "        else:\n",
    "            if max_l < l[len(l)-1] - l[0]:\n",
    "                max_l = l[len(l)-1] - l[0]\n",
    "            l = []\n",
    "            l.append(input_l[i])\n",
    "if max_l < l[len(l)-1] - l[0]:\n",
    "    max_l = l[len(l)-1] - l[0]\n",
    "print(max_l)"
   ]
  },
  {
   "cell_type": "code",
   "execution_count": null,
   "id": "1b0feef3",
   "metadata": {},
   "outputs": [],
   "source": []
  }
 ],
 "metadata": {
  "kernelspec": {
   "display_name": "Python 3 (ipykernel)",
   "language": "python",
   "name": "python3"
  },
  "language_info": {
   "codemirror_mode": {
    "name": "ipython",
    "version": 3
   },
   "file_extension": ".py",
   "mimetype": "text/x-python",
   "name": "python",
   "nbconvert_exporter": "python",
   "pygments_lexer": "ipython3",
   "version": "3.9.7"
  }
 },
 "nbformat": 4,
 "nbformat_minor": 5
}
