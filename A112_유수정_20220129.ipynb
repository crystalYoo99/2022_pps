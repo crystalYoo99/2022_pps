{
 "cells": [
  {
   "cell_type": "code",
   "execution_count": 11,
   "id": "f4e541c3",
   "metadata": {},
   "outputs": [
    {
     "name": "stdout",
     "output_type": "stream",
     "text": [
      "9 16\n",
      "21 25\n",
      "77 23\n",
      "23 88\n",
      "95 43\n",
      "96 19\n",
      "59 36\n",
      "80 13\n",
      "51 24\n",
      "15 8\n",
      "25 61\n",
      "21 22\n",
      "3 9\n",
      "68 68\n",
      "67 100\n",
      "83 98\n",
      "96 57\n",
      "6\n"
     ]
    }
   ],
   "source": [
    "n, m = map(int, input().split())\n",
    "min_p = 0\n",
    "min_o = 0\n",
    "\n",
    "for i in range(m):\n",
    "    price_p, price_o = map(int, input().split())\n",
    "    if i == 0:\n",
    "        min_p = price_p\n",
    "        min_o = price_o\n",
    "    if price_p < min_p:\n",
    "        min_p = price_p\n",
    "    if price_o < min_o:\n",
    "        min_o = price_o\n",
    "\n",
    "if n%6 != 0:\n",
    "    price = n//6*min_p + min_p\n",
    "else:\n",
    "    price = n//6*min_p\n",
    "\n",
    "if price > (n//6*min_p + n%6*min_o):\n",
    "    price = n//6*min_p + n%6*min_o\n",
    "\n",
    "if price > n*min_o:\n",
    "    price = n*min_o\n",
    "    \n",
    "print(price)"
   ]
  },
  {
   "cell_type": "code",
   "execution_count": null,
   "id": "2f8bea57",
   "metadata": {},
   "outputs": [],
   "source": []
  }
 ],
 "metadata": {
  "kernelspec": {
   "display_name": "Python 3 (ipykernel)",
   "language": "python",
   "name": "python3"
  },
  "language_info": {
   "codemirror_mode": {
    "name": "ipython",
    "version": 3
   },
   "file_extension": ".py",
   "mimetype": "text/x-python",
   "name": "python",
   "nbconvert_exporter": "python",
   "pygments_lexer": "ipython3",
   "version": "3.9.7"
  }
 },
 "nbformat": 4,
 "nbformat_minor": 5
}
