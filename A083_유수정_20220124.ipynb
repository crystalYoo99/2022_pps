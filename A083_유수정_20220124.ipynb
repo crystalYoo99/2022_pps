{
 "cells": [
  {
   "cell_type": "code",
   "execution_count": 11,
   "id": "9826989f",
   "metadata": {},
   "outputs": [
    {
     "name": "stdout",
     "output_type": "stream",
     "text": [
      "3\n",
      "21 Jun\n",
      "20 Suj\n",
      "20 WU\n",
      "20 Suj\n",
      "20 WU\n",
      "21 Jun\n"
     ]
    }
   ],
   "source": [
    "#https://www.acmicpc.net/problem/10814\n",
    "n = int(input())\n",
    "l_n = []\n",
    "for i in range(n):\n",
    "    l = list(map(str, input().split()))\n",
    "    l[0] = int(l[0])\n",
    "    l_n.append(l)\n",
    "l_n.sort(key= lambda l: l[0])\n",
    "\n",
    "for l in l_n:\n",
    "    print(l[0], l[1])"
   ]
  },
  {
   "cell_type": "code",
   "execution_count": null,
   "id": "bf3e3896",
   "metadata": {},
   "outputs": [],
   "source": []
  }
 ],
 "metadata": {
  "kernelspec": {
   "display_name": "Python 3 (ipykernel)",
   "language": "python",
   "name": "python3"
  },
  "language_info": {
   "codemirror_mode": {
    "name": "ipython",
    "version": 3
   },
   "file_extension": ".py",
   "mimetype": "text/x-python",
   "name": "python",
   "nbconvert_exporter": "python",
   "pygments_lexer": "ipython3",
   "version": "3.9.7"
  }
 },
 "nbformat": 4,
 "nbformat_minor": 5
}
