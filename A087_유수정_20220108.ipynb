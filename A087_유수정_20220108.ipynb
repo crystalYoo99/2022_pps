{
 "cells": [
  {
   "cell_type": "code",
   "execution_count": 14,
   "id": "996904b6",
   "metadata": {},
   "outputs": [
    {
     "name": "stdout",
     "output_type": "stream",
     "text": [
      "8 28\n",
      "8 9 18 15 14 19 11 17 16 13\n",
      "12 10 28 25 24 21 27 26 23 22\n",
      "20 "
     ]
    }
   ],
   "source": [
    "word = ['zero','one', 'two', 'three', 'four', 'five', 'six', 'seven', 'eight', 'nine']\n",
    "m, n = map(int, input().split())\n",
    "l = []\n",
    "\n",
    "for i in range(m, n+1):\n",
    "    if i < 10:\n",
    "        l.append([word[i%10], i])\n",
    "    else:\n",
    "        l.append([word[i//10] + word[i%10], i])\n",
    "l.sort(key = lambda x: x[0])\n",
    "\n",
    "for i in range(1, len(l)+1):\n",
    "    if (i%10 == 0) & (i > 5):\n",
    "        print(l[i-1][1])\n",
    "    else:\n",
    "        print(l[i-1][1], end = ' ')\n",
    "    "
   ]
  },
  {
   "cell_type": "code",
   "execution_count": null,
   "id": "e28090f7",
   "metadata": {},
   "outputs": [],
   "source": []
  }
 ],
 "metadata": {
  "kernelspec": {
   "display_name": "Python 3 (ipykernel)",
   "language": "python",
   "name": "python3"
  },
  "language_info": {
   "codemirror_mode": {
    "name": "ipython",
    "version": 3
   },
   "file_extension": ".py",
   "mimetype": "text/x-python",
   "name": "python",
   "nbconvert_exporter": "python",
   "pygments_lexer": "ipython3",
   "version": "3.9.7"
  }
 },
 "nbformat": 4,
 "nbformat_minor": 5
}
