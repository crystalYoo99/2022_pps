{
 "cells": [
  {
   "cell_type": "code",
   "execution_count": 33,
   "id": "17145758",
   "metadata": {},
   "outputs": [
    {
     "name": "stdout",
     "output_type": "stream",
     "text": [
      "3\n",
      "2\n"
     ]
    }
   ],
   "source": [
    "#https://www.acmicpc.net/problem/2164\n",
    "\n",
    "n = int(input())\n",
    "i = 2\n",
    "\n",
    "if n == 1 or n == 2:\n",
    "    num = n\n",
    "else:\n",
    "    while 1:\n",
    "        i *= 2\n",
    "        if n <= i:\n",
    "            break\n",
    "\n",
    "    num = (n - (i//2))*2\n",
    "\n",
    "print(int(num))\n"
   ]
  },
  {
   "cell_type": "code",
   "execution_count": null,
   "id": "82a9bbf7",
   "metadata": {},
   "outputs": [],
   "source": []
  },
  {
   "cell_type": "code",
   "execution_count": null,
   "id": "cb4ddffa",
   "metadata": {},
   "outputs": [],
   "source": []
  }
 ],
 "metadata": {
  "kernelspec": {
   "display_name": "Python 3 (ipykernel)",
   "language": "python",
   "name": "python3"
  },
  "language_info": {
   "codemirror_mode": {
    "name": "ipython",
    "version": 3
   },
   "file_extension": ".py",
   "mimetype": "text/x-python",
   "name": "python",
   "nbconvert_exporter": "python",
   "pygments_lexer": "ipython3",
   "version": "3.9.7"
  }
 },
 "nbformat": 4,
 "nbformat_minor": 5
}
