{
 "cells": [
  {
   "cell_type": "code",
   "execution_count": 8,
   "id": "295bbc20",
   "metadata": {},
   "outputs": [
    {
     "name": "stdout",
     "output_type": "stream",
     "text": [
      "64 120\n",
      "1\n",
      "567\n",
      "56\n"
     ]
    }
   ],
   "source": [
    "a, b = map(int, input().split())\n",
    "n = int(input())\n",
    "\n",
    "a_b = abs(b-a)\n",
    "b_temp = abs(b-a)\n",
    "\n",
    "for i in range(n):\n",
    "    temp = int(input())\n",
    "    if abs(temp-b) < b_temp:\n",
    "        b_temp = abs(temp-b)\n",
    "\n",
    "if b_temp < a_b:\n",
    "    a_b = abs(b_temp) + 1\n",
    "    \n",
    "print(a_b)"
   ]
  },
  {
   "cell_type": "code",
   "execution_count": null,
   "id": "8f8ce6f0",
   "metadata": {},
   "outputs": [],
   "source": []
  }
 ],
 "metadata": {
  "kernelspec": {
   "display_name": "Python 3 (ipykernel)",
   "language": "python",
   "name": "python3"
  },
  "language_info": {
   "codemirror_mode": {
    "name": "ipython",
    "version": 3
   },
   "file_extension": ".py",
   "mimetype": "text/x-python",
   "name": "python",
   "nbconvert_exporter": "python",
   "pygments_lexer": "ipython3",
   "version": "3.9.7"
  }
 },
 "nbformat": 4,
 "nbformat_minor": 5
}
