{
 "cells": [
  {
   "cell_type": "code",
   "execution_count": 9,
   "id": "3b56de8c",
   "metadata": {},
   "outputs": [
    {
     "name": "stdout",
     "output_type": "stream",
     "text": [
      "10 500\n",
      "93 181 245 214 315 36 185 138 216 295\n",
      "497\n"
     ]
    }
   ],
   "source": [
    "#https://www.acmicpc.net/problem/2798\n",
    "\n",
    "n, m = map(int, input().split())\n",
    "l = []\n",
    "\n",
    "l = list((map(int, input().split())))\n",
    "max_num = 0\n",
    "for i in range(n):\n",
    "    for j in range(i+1, n):\n",
    "        for k in range(j+1, n):\n",
    "            temp = l[i] + l[j] + l[k]\n",
    "            if m >= temp and m-temp < m-max_num:\n",
    "                max_num = temp\n",
    "            if max_num == m:\n",
    "                break\n",
    "        if max_num == m:\n",
    "            break     \n",
    "    if max_num == m:\n",
    "        break\n",
    "print(max_num)\n"
   ]
  },
  {
   "cell_type": "code",
   "execution_count": 7,
   "id": "581fe2a3",
   "metadata": {},
   "outputs": [
    {
     "name": "stdout",
     "output_type": "stream",
     "text": [
      "10 500\n",
      "93 181 245 214 315 36 185 138 216 295\n",
      "[93, 181, 245, 214, 315, 36, 185, 138, 216, 295]\n"
     ]
    }
   ],
   "source": [
    "\n",
    "n, m = map(int, input().split())\n",
    "l = []\n",
    "\n",
    "l = list((map(int, input().split())))\n",
    "\n",
    "print(l)"
   ]
  },
  {
   "cell_type": "code",
   "execution_count": null,
   "id": "7c6552c1",
   "metadata": {},
   "outputs": [],
   "source": []
  }
 ],
 "metadata": {
  "kernelspec": {
   "display_name": "Python 3 (ipykernel)",
   "language": "python",
   "name": "python3"
  },
  "language_info": {
   "codemirror_mode": {
    "name": "ipython",
    "version": 3
   },
   "file_extension": ".py",
   "mimetype": "text/x-python",
   "name": "python",
   "nbconvert_exporter": "python",
   "pygments_lexer": "ipython3",
   "version": "3.9.7"
  }
 },
 "nbformat": 4,
 "nbformat_minor": 5
}
