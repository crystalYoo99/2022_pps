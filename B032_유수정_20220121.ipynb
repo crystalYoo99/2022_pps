{
 "cells": [
  {
   "cell_type": "code",
   "execution_count": 6,
   "id": "1193a289",
   "metadata": {},
   "outputs": [
    {
     "name": "stdout",
     "output_type": "stream",
     "text": [
      "6\n",
      "39 38 9 35 39 20\n",
      "42\n"
     ]
    }
   ],
   "source": [
    "n = int(input())\n",
    "l = list(map(int, input().split()))\n",
    "l.sort()\n",
    "max_l = 0\n",
    "\n",
    "for i in range(n):\n",
    "    l[i] = l[i] - i\n",
    "    if l[i] > max_l:\n",
    "        max_l = l[i]\n",
    "\n",
    "print(max_l + n + 1)"
   ]
  },
  {
   "cell_type": "code",
   "execution_count": null,
   "id": "2e47f3a9",
   "metadata": {},
   "outputs": [],
   "source": []
  }
 ],
 "metadata": {
  "kernelspec": {
   "display_name": "Python 3 (ipykernel)",
   "language": "python",
   "name": "python3"
  },
  "language_info": {
   "codemirror_mode": {
    "name": "ipython",
    "version": 3
   },
   "file_extension": ".py",
   "mimetype": "text/x-python",
   "name": "python",
   "nbconvert_exporter": "python",
   "pygments_lexer": "ipython3",
   "version": "3.9.7"
  }
 },
 "nbformat": 4,
 "nbformat_minor": 5
}
