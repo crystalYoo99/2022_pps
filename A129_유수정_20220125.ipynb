{
 "cells": [
  {
   "cell_type": "code",
   "execution_count": 6,
   "id": "a08d6ce5",
   "metadata": {},
   "outputs": [
    {
     "name": "stdout",
     "output_type": "stream",
     "text": [
      "3\n",
      "4\n",
      "7\n",
      "7\n",
      "44\n",
      "10\n",
      "274\n"
     ]
    }
   ],
   "source": [
    "#https://www.acmicpc.net/problem/9095\n",
    "def count(num):\n",
    "    if l[num] != -1:\n",
    "        return l[num]\n",
    "    else:\n",
    "        l[num] = count(num-1) + count(num-2) + count(num-3)\n",
    "        return l[num]\n",
    "\n",
    "k = int(input())\n",
    "l = [-1 for i in range(12)]\n",
    "l[1] = 1\n",
    "l[2] = 2\n",
    "l[3] = 4\n",
    "    \n",
    "for i in range(k):\n",
    "    n = int(input())\n",
    "\n",
    "    print(count(n))"
   ]
  },
  {
   "cell_type": "code",
   "execution_count": null,
   "id": "3cbe30f5",
   "metadata": {},
   "outputs": [],
   "source": []
  }
 ],
 "metadata": {
  "kernelspec": {
   "display_name": "Python 3 (ipykernel)",
   "language": "python",
   "name": "python3"
  },
  "language_info": {
   "codemirror_mode": {
    "name": "ipython",
    "version": 3
   },
   "file_extension": ".py",
   "mimetype": "text/x-python",
   "name": "python",
   "nbconvert_exporter": "python",
   "pygments_lexer": "ipython3",
   "version": "3.9.7"
  }
 },
 "nbformat": 4,
 "nbformat_minor": 5
}
