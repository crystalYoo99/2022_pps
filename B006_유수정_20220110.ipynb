{
 "cells": [
  {
   "cell_type": "code",
   "execution_count": 8,
   "id": "49c80138",
   "metadata": {},
   "outputs": [
    {
     "name": "stdout",
     "output_type": "stream",
     "text": [
      "4 5 1\n",
      "1 2\n",
      "1 3\n",
      "1 4\n",
      "2 4\n",
      "3 4\n",
      "[[0, 0, 0, 0, 0], [0, 0, 1, 1, 1], [0, 1, 0, 0, 1], [0, 1, 0, 0, 1], [0, 1, 1, 1, 0]]\n",
      "1 2 4 3 \n",
      "1 2 3 4 "
     ]
    }
   ],
   "source": [
    "n, m, v = map(int, input().split())\n",
    "l_v = [0 for i in range(n+1)]\n",
    "l = [[0] * (n+1) for i in range(n+1)]\n",
    "\n",
    "for i in range(m):\n",
    "    a, b = map(int, input().split())\n",
    "    l[a][b] = l[b][a] = 1\n",
    "\n",
    "#print(l)\n",
    "\n",
    "#dfs\n",
    "def dfs(v):\n",
    "    print(v, end = ' ')\n",
    "    l_v[v] = 1\n",
    "    \n",
    "    for i in range(1, n+1):\n",
    "        if(l_v[i] == 0 and l[v][i] == 1):\n",
    "            dfs(i)\n",
    "        \n",
    "\n",
    "#bfs\n",
    "def bfs(v):\n",
    "    queue = [v]\n",
    "    l_v[v] = 0\n",
    "    \n",
    "    while queue:\n",
    "        v = queue.pop(0)\n",
    "        print(v, end = ' ')\n",
    "        for i in range(1, n+1):\n",
    "            if(l_v[i] == 1 and l[v][i] == 1):\n",
    "                queue.append(i)\n",
    "                l_v[i] = 0\n",
    "\n",
    "dfs(v)\n",
    "print()\n",
    "bfs(v)"
   ]
  }
 ],
 "metadata": {
  "kernelspec": {
   "display_name": "Python 3 (ipykernel)",
   "language": "python",
   "name": "python3"
  },
  "language_info": {
   "codemirror_mode": {
    "name": "ipython",
    "version": 3
   },
   "file_extension": ".py",
   "mimetype": "text/x-python",
   "name": "python",
   "nbconvert_exporter": "python",
   "pygments_lexer": "ipython3",
   "version": "3.9.7"
  }
 },
 "nbformat": 4,
 "nbformat_minor": 5
}
