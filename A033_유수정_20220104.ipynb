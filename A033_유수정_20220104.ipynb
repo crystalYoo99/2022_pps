{
 "cells": [
  {
   "cell_type": "code",
   "execution_count": 2,
   "id": "870125b4",
   "metadata": {},
   "outputs": [
    {
     "name": "stdout",
     "output_type": "stream",
     "text": [
      "5 4 4 5\n",
      "5 4 4 4\n",
      "5 5 4 4\n",
      "5 5 5 4\n",
      "4 4 4 5\n",
      "4 19\n"
     ]
    }
   ],
   "source": [
    "l = []\n",
    "max_score = 0\n",
    "max_person = 0\n",
    "\n",
    "for i in range(5):\n",
    "    l = list(map(int, input().split()))\n",
    "    temp = sum(l)\n",
    "    if max_score < temp:\n",
    "        max_score = temp\n",
    "        max_person = i+1\n",
    "\n",
    "print(\"%d %d\"%(max_person, max_score))"
   ]
  },
  {
   "cell_type": "code",
   "execution_count": null,
   "id": "e0ef75a1",
   "metadata": {},
   "outputs": [],
   "source": []
  }
 ],
 "metadata": {
  "kernelspec": {
   "display_name": "Python 3 (ipykernel)",
   "language": "python",
   "name": "python3"
  },
  "language_info": {
   "codemirror_mode": {
    "name": "ipython",
    "version": 3
   },
   "file_extension": ".py",
   "mimetype": "text/x-python",
   "name": "python",
   "nbconvert_exporter": "python",
   "pygments_lexer": "ipython3",
   "version": "3.9.7"
  }
 },
 "nbformat": 4,
 "nbformat_minor": 5
}
