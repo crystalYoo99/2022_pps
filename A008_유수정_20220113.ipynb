{
 "cells": [
  {
   "cell_type": "code",
   "execution_count": 19,
   "id": "7d81c3af",
   "metadata": {},
   "outputs": [
    {
     "name": "stdout",
     "output_type": "stream",
     "text": [
      "5\n",
      "5 50 50 70 80 100\n",
      "40.000%\n",
      "7 100 95 90 80 70 60 50\n",
      "57.143%\n",
      "3 70 90 80\n",
      "33.333%\n",
      "3 70 90 81\n",
      "66.667%\n",
      "9 100 99 98 97 96 95 94 93 91\n",
      "55.556%\n"
     ]
    }
   ],
   "source": [
    "#https://www.acmicpc.net/problem/4344\n",
    "\n",
    "n = int(input())\n",
    "score = []\n",
    "for i in range(n):\n",
    "    score = list(map(int, input().split()))\n",
    "    average = (sum(score)-score[0])/score[0]\n",
    "    count = 0\n",
    "    for j in range(score[0]):\n",
    "        if score[j+1] > average:\n",
    "            count+=1\n",
    "    rate = format(count/score[0]*100, \".3f\")\n",
    "    print(rate, \"%\", sep = '')"
   ]
  },
  {
   "cell_type": "code",
   "execution_count": null,
   "id": "004309f9",
   "metadata": {},
   "outputs": [],
   "source": []
  }
 ],
 "metadata": {
  "kernelspec": {
   "display_name": "Python 3 (ipykernel)",
   "language": "python",
   "name": "python3"
  },
  "language_info": {
   "codemirror_mode": {
    "name": "ipython",
    "version": 3
   },
   "file_extension": ".py",
   "mimetype": "text/x-python",
   "name": "python",
   "nbconvert_exporter": "python",
   "pygments_lexer": "ipython3",
   "version": "3.9.7"
  }
 },
 "nbformat": 4,
 "nbformat_minor": 5
}
