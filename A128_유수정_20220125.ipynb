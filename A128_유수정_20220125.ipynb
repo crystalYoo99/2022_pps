{
 "cells": [
  {
   "cell_type": "code",
   "execution_count": 17,
   "id": "6a074c34",
   "metadata": {},
   "outputs": [
    {
     "name": "stdout",
     "output_type": "stream",
     "text": [
      "([ (([( [ ] ) ( ) (( ))] )) ]).\n",
      "yes\n",
      "Half Moon tonight (At least it is better than no Moon at all].\n",
      "no\n",
      "So when I die (the [first] I will see in (heaven) is a score list).\n",
      "yes\n",
      ".\n"
     ]
    }
   ],
   "source": [
    "l = []\n",
    "\n",
    "while 1:\n",
    "    a = input()\n",
    "    \n",
    "    if a == '.':\n",
    "        break\n",
    "    fault_flag = 0\n",
    "    l = []\n",
    "    \n",
    "    for i in range(len(a)):\n",
    "        if a[i] == '(' or a[i] == '[':\n",
    "            l.append(a[i])\n",
    "        elif a[i] == ')':\n",
    "            if len(l) == 0:\n",
    "                fault_flag = 1\n",
    "                break\n",
    "            temp = l.pop()\n",
    "            if temp != '(':\n",
    "                fault_flag = 1\n",
    "                break\n",
    "        elif a[i] == ']':\n",
    "            if len(l) == 0:\n",
    "                fault_flag = 1\n",
    "                break\n",
    "            temp = l.pop()\n",
    "            if temp != '[':\n",
    "                fault_flag = 1\n",
    "                break\n",
    "                \n",
    "    if fault_flag == 0 and len(l) == 0:\n",
    "        print('yes')\n",
    "    else:\n",
    "        print('no')"
   ]
  },
  {
   "cell_type": "code",
   "execution_count": null,
   "id": "ef8b0c8a",
   "metadata": {},
   "outputs": [],
   "source": []
  }
 ],
 "metadata": {
  "kernelspec": {
   "display_name": "Python 3 (ipykernel)",
   "language": "python",
   "name": "python3"
  },
  "language_info": {
   "codemirror_mode": {
    "name": "ipython",
    "version": 3
   },
   "file_extension": ".py",
   "mimetype": "text/x-python",
   "name": "python",
   "nbconvert_exporter": "python",
   "pygments_lexer": "ipython3",
   "version": "3.9.7"
  }
 },
 "nbformat": 4,
 "nbformat_minor": 5
}
