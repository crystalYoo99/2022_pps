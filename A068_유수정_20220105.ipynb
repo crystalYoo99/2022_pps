{
 "cells": [
  {
   "cell_type": "code",
   "execution_count": 10,
   "id": "0365b9e6",
   "metadata": {},
   "outputs": [
    {
     "name": "stdout",
     "output_type": "stream",
     "text": [
      "15\n",
      "push 1\n",
      "push 2\n",
      "front\n",
      "1\n",
      "back\n",
      "2\n",
      "size\n",
      "2\n",
      "empty\n",
      "0\n",
      "pop\n",
      "1\n",
      "pop\n",
      "2\n",
      "pop\n",
      "-1\n",
      "size\n",
      "0\n",
      "empty\n",
      "1\n",
      "pop\n",
      "-1\n",
      "push 3\n",
      "empty\n",
      "0\n",
      "front\n",
      "3\n"
     ]
    }
   ],
   "source": [
    "from collections import deque\n",
    "import sys\n",
    "\n",
    "n = int(input())\n",
    "l = deque([])\n",
    "\n",
    "for i in range(n):\n",
    "    #s = sys.stdin.readline()\n",
    "    s = input()\n",
    "    \n",
    "    #push\n",
    "    if s[1] == 'u':\n",
    "        s, num = s.split()\n",
    "        l.append(int(num))\n",
    "    \n",
    "    #pop\n",
    "    elif s[0] == 'p':\n",
    "        if len(l) == 0:\n",
    "            print(-1)\n",
    "            continue\n",
    "        #temp = l[start]\n",
    "        temp = l.popleft()\n",
    "        #start += 1\n",
    "        print(temp)\n",
    "    \n",
    "    #size\n",
    "    elif s[0] == 's':\n",
    "        print(len(l))\n",
    "    \n",
    "    #empty\n",
    "    elif s[0] == 'e':\n",
    "        if len(l) == 0:\n",
    "            print(1)\n",
    "        else:\n",
    "            print(0)\n",
    "    \n",
    "    #front\n",
    "    elif s[0] == 'f':\n",
    "        if len(l) == 0:\n",
    "            print(-1)\n",
    "            continue\n",
    "        print(l[0])\n",
    "    \n",
    "    #back\n",
    "    if s[0] == 'b':\n",
    "        if len(l) == 0:\n",
    "            print(-1)\n",
    "            continue\n",
    "        print(l[len(l)-1])\n",
    "    "
   ]
  },
  {
   "cell_type": "code",
   "execution_count": null,
   "id": "fe4b3339",
   "metadata": {},
   "outputs": [],
   "source": []
  }
 ],
 "metadata": {
  "kernelspec": {
   "display_name": "Python 3 (ipykernel)",
   "language": "python",
   "name": "python3"
  },
  "language_info": {
   "codemirror_mode": {
    "name": "ipython",
    "version": 3
   },
   "file_extension": ".py",
   "mimetype": "text/x-python",
   "name": "python",
   "nbconvert_exporter": "python",
   "pygments_lexer": "ipython3",
   "version": "3.9.7"
  }
 },
 "nbformat": 4,
 "nbformat_minor": 5
}
