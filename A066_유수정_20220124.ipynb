{
 "cells": [
  {
   "cell_type": "code",
   "execution_count": 20,
   "id": "8bfc6dc5",
   "metadata": {},
   "outputs": [
    {
     "name": "stdout",
     "output_type": "stream",
     "text": [
      "214\n",
      "421"
     ]
    }
   ],
   "source": [
    "#https://www.acmicpc.net/problem/1427\n",
    "n = list(map(int, input()))\n",
    "n.sort(reverse = True)\n",
    "for i in range(len(n)):\n",
    "    print(n[i], end = '')"
   ]
  },
  {
   "cell_type": "code",
   "execution_count": null,
   "id": "041c8164",
   "metadata": {},
   "outputs": [],
   "source": []
  }
 ],
 "metadata": {
  "kernelspec": {
   "display_name": "Python 3 (ipykernel)",
   "language": "python",
   "name": "python3"
  },
  "language_info": {
   "codemirror_mode": {
    "name": "ipython",
    "version": 3
   },
   "file_extension": ".py",
   "mimetype": "text/x-python",
   "name": "python",
   "nbconvert_exporter": "python",
   "pygments_lexer": "ipython3",
   "version": "3.9.7"
  }
 },
 "nbformat": 4,
 "nbformat_minor": 5
}
