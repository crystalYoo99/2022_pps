{
 "cells": [
  {
   "cell_type": "code",
   "execution_count": null,
   "id": "39a708b4",
   "metadata": {},
   "outputs": [
    {
     "name": "stdout",
     "output_type": "stream",
     "text": [
      "50\n",
      "30\n",
      "24\n",
      "5\n",
      "28\n",
      "45\n",
      "98\n",
      "52\n",
      "60\n"
     ]
    }
   ],
   "source": [
    "#전위 : root -> l -> r\n",
    "#중위 : l -> root -> r\n",
    "#후위 : l -> r -> root\n",
    "#전위 -> 후위\n",
    "import sys\n",
    "sys.setrecursionlimit(10 ** 6)\n",
    "temp = sys.stdin.readline\n",
    "\n",
    "tree = []\n",
    "\n",
    "def post_order(start, end):\n",
    "    if start > end:\n",
    "        return\n",
    "    \n",
    "    root = tree[start]\n",
    "    idx = start + 1\n",
    "    \n",
    "    while idx <= end:\n",
    "        if root < tree[idx]:\n",
    "            break\n",
    "        idx += 1\n",
    "    post_order(start+1, idx-1)\n",
    "    post_order(idx, end)\n",
    "    print(root)\n",
    "    \n",
    "\n",
    "while 1:\n",
    "    try:\n",
    "        tree.append(int(input()))\n",
    "    except:\n",
    "        break\n",
    "\n",
    "post_order(0, len(tree)-1)"
   ]
  },
  {
   "cell_type": "code",
   "execution_count": null,
   "id": "502fa747",
   "metadata": {},
   "outputs": [],
   "source": []
  }
 ],
 "metadata": {
  "kernelspec": {
   "display_name": "Python 3 (ipykernel)",
   "language": "python",
   "name": "python3"
  },
  "language_info": {
   "codemirror_mode": {
    "name": "ipython",
    "version": 3
   },
   "file_extension": ".py",
   "mimetype": "text/x-python",
   "name": "python",
   "nbconvert_exporter": "python",
   "pygments_lexer": "ipython3",
   "version": "3.9.7"
  }
 },
 "nbformat": 4,
 "nbformat_minor": 5
}
