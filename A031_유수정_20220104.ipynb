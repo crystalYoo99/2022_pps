{
 "cells": [
  {
   "cell_type": "code",
   "execution_count": 1,
   "id": "39e4306c",
   "metadata": {},
   "outputs": [
    {
     "name": "stdout",
     "output_type": "stream",
     "text": [
      "2 2\n",
      "3\n"
     ]
    }
   ],
   "source": [
    "n, m = map(int, input().split())\n",
    "\n",
    "print((n-1) + n*(m-1))"
   ]
  },
  {
   "cell_type": "code",
   "execution_count": null,
   "id": "317a3c6f",
   "metadata": {},
   "outputs": [],
   "source": []
  }
 ],
 "metadata": {
  "kernelspec": {
   "display_name": "Python 3 (ipykernel)",
   "language": "python",
   "name": "python3"
  },
  "language_info": {
   "codemirror_mode": {
    "name": "ipython",
    "version": 3
   },
   "file_extension": ".py",
   "mimetype": "text/x-python",
   "name": "python",
   "nbconvert_exporter": "python",
   "pygments_lexer": "ipython3",
   "version": "3.9.7"
  }
 },
 "nbformat": 4,
 "nbformat_minor": 5
}
