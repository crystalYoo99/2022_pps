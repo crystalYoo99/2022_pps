{
 "cells": [
  {
   "cell_type": "code",
   "execution_count": 31,
   "id": "12aa2882",
   "metadata": {},
   "outputs": [
    {
     "name": "stdout",
     "output_type": "stream",
     "text": [
      "ddz=z=\n",
      "3\n"
     ]
    }
   ],
   "source": [
    "#https://www.acmicpc.net/problem/2941\n",
    "s = list(input())\n",
    "cnt = 0\n",
    "\n",
    "for i in range(len(s)-1):\n",
    "    if(s[i] == 'l' and s[i+1] == 'j'):\n",
    "        cnt += 1;\n",
    "        s[i] = '0'\n",
    "        s[i+1] = '0'\n",
    "    elif(s[i] == 'c' and s[i+1] == '='):\n",
    "        cnt += 1;\n",
    "        s[i] = '0'\n",
    "        s[i+1] = '0'\n",
    "    elif(s[i] == 'c' and s[i+1] == '-'):\n",
    "        cnt += 1;\n",
    "        s[i] = '0'\n",
    "        s[i+1] = '0'\n",
    "    elif(s[i] == 'd' and s[i+1] == '-'):\n",
    "        cnt += 1;\n",
    "        s[i] = '0'\n",
    "        s[i+1] = '0'\n",
    "    elif(s[i] == 'n' and s[i+1] == 'j'):\n",
    "        cnt += 1;\n",
    "        s[i] = '0'\n",
    "        s[i+1] = '0'\n",
    "    elif(s[i] == 's' and s[i+1] == '='):\n",
    "        cnt += 1;\n",
    "        s[i] = '0'\n",
    "        s[i+1] = '0'\n",
    "    elif(s[i] == 'z' and s[i+1] == '='):\n",
    "        if(s[i-1] == 'd'):\n",
    "            s[i-1] = '0'\n",
    "        cnt += 1;\n",
    "        s[i] = '0'\n",
    "        s[i+1] = '0'\n",
    "        \n",
    "for i in range(len(s)):\n",
    "    if s[i] != '0':\n",
    "        cnt += 1\n",
    "\n",
    "print(cnt)"
   ]
  },
  {
   "cell_type": "code",
   "execution_count": null,
   "id": "e2a54b6b",
   "metadata": {},
   "outputs": [],
   "source": []
  }
 ],
 "metadata": {
  "kernelspec": {
   "display_name": "Python 3 (ipykernel)",
   "language": "python",
   "name": "python3"
  },
  "language_info": {
   "codemirror_mode": {
    "name": "ipython",
    "version": 3
   },
   "file_extension": ".py",
   "mimetype": "text/x-python",
   "name": "python",
   "nbconvert_exporter": "python",
   "pygments_lexer": "ipython3",
   "version": "3.9.7"
  }
 },
 "nbformat": 4,
 "nbformat_minor": 5
}
