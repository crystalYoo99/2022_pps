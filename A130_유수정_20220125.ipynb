{
 "cells": [
  {
   "cell_type": "code",
   "execution_count": 2,
   "id": "dbbeea18",
   "metadata": {},
   "outputs": [
    {
     "name": "stdout",
     "output_type": "stream",
     "text": [
      "10\n",
      "1\n",
      "3\n",
      "5\n",
      "4\n",
      "0\n",
      "0\n",
      "7\n",
      "0\n",
      "0\n",
      "6\n",
      "7\n"
     ]
    }
   ],
   "source": [
    "#https://www.acmicpc.net/problem/10773\n",
    "import sys\n",
    "n = int(input())\n",
    "l = []\n",
    "for i in range(n):\n",
    "    num = int(sys.stdin.readline())\n",
    "    if num != 0:\n",
    "        l.append(num)\n",
    "    else:\n",
    "        l.pop()\n",
    "print(sum(l))"
   ]
  },
  {
   "cell_type": "code",
   "execution_count": null,
   "id": "cbb58561",
   "metadata": {},
   "outputs": [],
   "source": []
  }
 ],
 "metadata": {
  "kernelspec": {
   "display_name": "Python 3 (ipykernel)",
   "language": "python",
   "name": "python3"
  },
  "language_info": {
   "codemirror_mode": {
    "name": "ipython",
    "version": 3
   },
   "file_extension": ".py",
   "mimetype": "text/x-python",
   "name": "python",
   "nbconvert_exporter": "python",
   "pygments_lexer": "ipython3",
   "version": "3.9.7"
  }
 },
 "nbformat": 4,
 "nbformat_minor": 5
}
