{
 "cells": [
  {
   "cell_type": "code",
   "execution_count": null,
   "id": "63087dc1",
   "metadata": {},
   "outputs": [],
   "source": [
    "import sys\n",
    "sys.setrecursionlimit(1000000)\n",
    "input = sys.stdin.readline\n",
    "\n",
    "n = int(input().rstrip())\n",
    "matrix = [list(input().rstrip()) for _ in range(n)]\n",
    "visited = [[False] * n for _ in range(n)]\n",
    "\n",
    "three_cnt, two_cnt = 0, 0\n",
    "dx = [-1,1,0,0]\n",
    "dy = [0,0,-1,1]\n",
    "\n",
    "def dfs(x,y):\n",
    "    visited[x][y] = True\n",
    "    current_color = matrix[x][y]\n",
    "\n",
    "    for k in range(4):\n",
    "        nx = x + dx[k]\n",
    "        ny = y + dy[k]\n",
    "        if (0 <= nx < n) and (0 <= ny < n):\n",
    "            if visited[nx][ny]==False:\n",
    "                if matrix[nx][ny] == current_color:\n",
    "                    dfs(nx,ny)\n",
    "\n",
    "for i in range(n):\n",
    "    for j in range(n):\n",
    "        if visited[i][j]==False:\n",
    "            dfs(i,j)\n",
    "            three_cnt += 1\n",
    "\n",
    "for i in range(n):\n",
    "    for j in range(n):\n",
    "        if matrix[i][j]=='R':\n",
    "            matrix[i][j]='G'\n",
    "\n",
    "visited = [[False] * n for _ in range(n)]\n",
    "\n",
    "for i in range(n):\n",
    "    for j in range(n):\n",
    "        if visited[i][j] == False:\n",
    "            dfs(i,j)\n",
    "            two_cnt += 1\n",
    "\n",
    "print(three_cnt,two_cnt)"
   ]
  }
 ],
 "metadata": {
  "kernelspec": {
   "display_name": "Python 3 (ipykernel)",
   "language": "python",
   "name": "python3"
  },
  "language_info": {
   "codemirror_mode": {
    "name": "ipython",
    "version": 3
   },
   "file_extension": ".py",
   "mimetype": "text/x-python",
   "name": "python",
   "nbconvert_exporter": "python",
   "pygments_lexer": "ipython3",
   "version": "3.9.7"
  }
 },
 "nbformat": 4,
 "nbformat_minor": 5
}
