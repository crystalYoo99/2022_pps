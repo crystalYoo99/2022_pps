{
 "cells": [
  {
   "cell_type": "code",
   "execution_count": 4,
   "id": "6e7e07ae",
   "metadata": {},
   "outputs": [
    {
     "name": "stdout",
     "output_type": "stream",
     "text": [
      "1\n",
      "15\n"
     ]
    }
   ],
   "source": [
    "n = int(input())\n",
    "cnt = 0\n",
    "n = 1000-n\n",
    "cnt += n//500\n",
    "n -= (n//500)*500\n",
    "cnt += n//100\n",
    "n -= (n//100)*100\n",
    "cnt += n//50\n",
    "n -= (n//50)*50\n",
    "cnt += n//10\n",
    "n -= (n//10)*10\n",
    "cnt += n//5\n",
    "n -= (n//5)*5\n",
    "cnt += n\n",
    "print(cnt)"
   ]
  },
  {
   "cell_type": "code",
   "execution_count": null,
   "id": "66847dd5",
   "metadata": {},
   "outputs": [],
   "source": []
  }
 ],
 "metadata": {
  "kernelspec": {
   "display_name": "Python 3 (ipykernel)",
   "language": "python",
   "name": "python3"
  },
  "language_info": {
   "codemirror_mode": {
    "name": "ipython",
    "version": 3
   },
   "file_extension": ".py",
   "mimetype": "text/x-python",
   "name": "python",
   "nbconvert_exporter": "python",
   "pygments_lexer": "ipython3",
   "version": "3.9.7"
  }
 },
 "nbformat": 4,
 "nbformat_minor": 5
}
