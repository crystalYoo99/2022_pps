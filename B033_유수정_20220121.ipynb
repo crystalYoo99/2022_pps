{
 "cells": [
  {
   "cell_type": "code",
   "execution_count": 5,
   "id": "eeddaf3c",
   "metadata": {},
   "outputs": [
    {
     "name": "stdout",
     "output_type": "stream",
     "text": [
      "100\n",
      "0 1 4\n"
     ]
    }
   ],
   "source": [
    "#https://www.acmicpc.net/problem/10162\n",
    "five = 0\n",
    "one = 0\n",
    "ten =0\n",
    "\n",
    "n = int(input())\n",
    "while 1:\n",
    "    if n<60:\n",
    "        break\n",
    "    if n>=5*60:\n",
    "        five += 1\n",
    "        n -= 5*60\n",
    "    elif n>=60:\n",
    "        one += 1\n",
    "        n-= 1*60\n",
    "ten += (n//10)\n",
    "if n%10 != 0:\n",
    "    print(-1)\n",
    "else:\n",
    "    print('%d %d %d'%(five, one, ten))"
   ]
  },
  {
   "cell_type": "code",
   "execution_count": null,
   "id": "399c56e6",
   "metadata": {},
   "outputs": [],
   "source": []
  }
 ],
 "metadata": {
  "kernelspec": {
   "display_name": "Python 3 (ipykernel)",
   "language": "python",
   "name": "python3"
  },
  "language_info": {
   "codemirror_mode": {
    "name": "ipython",
    "version": 3
   },
   "file_extension": ".py",
   "mimetype": "text/x-python",
   "name": "python",
   "nbconvert_exporter": "python",
   "pygments_lexer": "ipython3",
   "version": "3.9.7"
  }
 },
 "nbformat": 4,
 "nbformat_minor": 5
}
