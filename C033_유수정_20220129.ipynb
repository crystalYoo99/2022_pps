{
 "cells": [
  {
   "cell_type": "code",
   "execution_count": 7,
   "id": "23726e4b",
   "metadata": {},
   "outputs": [
    {
     "name": "stdout",
     "output_type": "stream",
     "text": [
      "13 6\n",
      "5\n",
      "56 679\n",
      "35 120\n",
      "99 999\n",
      "56 73\n",
      "37 532\n",
      "69.55\n"
     ]
    }
   ],
   "source": [
    "seven_price, seven_gram = map(int, input().split())\n",
    "seven_price = seven_price/seven_gram\n",
    "\n",
    "n = int(input())\n",
    "min_price = seven_price\n",
    "\n",
    "for i in range(n):\n",
    "    price, gram = map(int, input().split())\n",
    "    price = price/gram\n",
    "    \n",
    "    if price < min_price:\n",
    "        min_price = price\n",
    "\n",
    "print(\"%.2f\"%(min_price * 1000))\n",
    "        "
   ]
  },
  {
   "cell_type": "markdown",
   "id": "111fccc6",
   "metadata": {},
   "source": [
    "# "
   ]
  }
 ],
 "metadata": {
  "kernelspec": {
   "display_name": "Python 3 (ipykernel)",
   "language": "python",
   "name": "python3"
  },
  "language_info": {
   "codemirror_mode": {
    "name": "ipython",
    "version": 3
   },
   "file_extension": ".py",
   "mimetype": "text/x-python",
   "name": "python",
   "nbconvert_exporter": "python",
   "pygments_lexer": "ipython3",
   "version": "3.9.7"
  }
 },
 "nbformat": 4,
 "nbformat_minor": 5
}
