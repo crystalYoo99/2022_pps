{
 "cells": [
  {
   "cell_type": "code",
   "execution_count": null,
   "id": "5b55c58b",
   "metadata": {},
   "outputs": [],
   "source": [
    "n, k = map(int, input().split())\n",
    "l = [1 for i in range(n)]\n",
    "cnt = 0\n",
    "i = -1\n",
    "j = 0\n",
    "\n",
    "print('<', end = '')\n",
    "while 1:\n",
    "    if cnt == n:\n",
    "        break\n",
    "    j = 0\n",
    "    \n",
    "    while 1:\n",
    "        i += 1\n",
    "        if i == n:\n",
    "            i = 0\n",
    "        if l[i] == 1:\n",
    "            j += 1\n",
    "        if j == k:\n",
    "            break\n",
    "    cnt += 1\n",
    "    l[i] = 0\n",
    "    if cnt < n:\n",
    "        print(i+1, end = ', ')\n",
    "    else:\n",
    "        print(i+1, end ='')\n",
    "print('>')\n",
    "    "
   ]
  },
  {
   "cell_type": "code",
   "execution_count": null,
   "id": "4a246454",
   "metadata": {},
   "outputs": [],
   "source": []
  }
 ],
 "metadata": {
  "kernelspec": {
   "display_name": "Python 3 (ipykernel)",
   "language": "python",
   "name": "python3"
  },
  "language_info": {
   "codemirror_mode": {
    "name": "ipython",
    "version": 3
   },
   "file_extension": ".py",
   "mimetype": "text/x-python",
   "name": "python",
   "nbconvert_exporter": "python",
   "pygments_lexer": "ipython3",
   "version": "3.9.7"
  }
 },
 "nbformat": 4,
 "nbformat_minor": 5
}
