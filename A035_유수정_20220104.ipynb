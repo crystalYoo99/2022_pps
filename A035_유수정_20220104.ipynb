{
 "cells": [
  {
   "cell_type": "code",
   "execution_count": 5,
   "id": "9cc6e655",
   "metadata": {},
   "outputs": [
    {
     "name": "stdout",
     "output_type": "stream",
     "text": [
      "3\n",
      "3 @ %\n",
      "14.00\n",
      "10.4 # % @\n",
      "25.20\n",
      "8 #\n",
      "1.00\n"
     ]
    }
   ],
   "source": [
    "n = int(input())\n",
    "l = []\n",
    "\n",
    "for i in range(n):\n",
    "    l = list(map(str, input().split()))\n",
    "    num = float(l[0])\n",
    "    for j in range(1, len(l)):\n",
    "        if l[j] == '@':\n",
    "            num *= 3\n",
    "        elif l[j] == '%':\n",
    "            num += 5\n",
    "        elif l[j] == '#':\n",
    "            num -= 7\n",
    "    print(\"%.2f\"%num)"
   ]
  },
  {
   "cell_type": "code",
   "execution_count": null,
   "id": "aea53e7c",
   "metadata": {},
   "outputs": [],
   "source": []
  }
 ],
 "metadata": {
  "kernelspec": {
   "display_name": "Python 3 (ipykernel)",
   "language": "python",
   "name": "python3"
  },
  "language_info": {
   "codemirror_mode": {
    "name": "ipython",
    "version": 3
   },
   "file_extension": ".py",
   "mimetype": "text/x-python",
   "name": "python",
   "nbconvert_exporter": "python",
   "pygments_lexer": "ipython3",
   "version": "3.9.7"
  }
 },
 "nbformat": 4,
 "nbformat_minor": 5
}
