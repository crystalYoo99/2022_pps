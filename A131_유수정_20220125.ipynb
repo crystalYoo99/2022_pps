{
 "cells": [
  {
   "cell_type": "code",
   "execution_count": 20,
   "id": "f45a28a8",
   "metadata": {},
   "outputs": [
    {
     "name": "stdout",
     "output_type": "stream",
     "text": [
      "5\n",
      "-1\n",
      "-2\n",
      "-3\n",
      "-1\n",
      "-2\n",
      "-2\n",
      "-2\n",
      "-1\n",
      "2\n"
     ]
    }
   ],
   "source": [
    "#https://www.acmicpc.net/problem/2108\n",
    "\n",
    "from collections import Counter\n",
    "import sys\n",
    "\n",
    "n = int(input())\n",
    "l = []\n",
    "\n",
    "for i in range(n):\n",
    "    l.append(int(sys.stdin.readline()))\n",
    "l.sort()\n",
    "\n",
    "cnt = Counter(l).most_common()\n",
    "\n",
    "print(round(sum(l)/len(l)))\n",
    "print(l[len(l)//2])\n",
    "\n",
    "if len(l) > 1:\n",
    "    if cnt[0][1] == cnt[1][1]:\n",
    "        print(cnt[1][0])\n",
    "    else:\n",
    "        print(cnt[0][0])\n",
    "else:\n",
    "    print(cnt[0][0])\n",
    "print(l[-1]-l[0])"
   ]
  }
 ],
 "metadata": {
  "kernelspec": {
   "display_name": "Python 3 (ipykernel)",
   "language": "python",
   "name": "python3"
  },
  "language_info": {
   "codemirror_mode": {
    "name": "ipython",
    "version": 3
   },
   "file_extension": ".py",
   "mimetype": "text/x-python",
   "name": "python",
   "nbconvert_exporter": "python",
   "pygments_lexer": "ipython3",
   "version": "3.9.7"
  }
 },
 "nbformat": 4,
 "nbformat_minor": 5
}
