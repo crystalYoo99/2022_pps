{
 "cells": [
  {
   "cell_type": "code",
   "execution_count": 18,
   "id": "31f7c782",
   "metadata": {},
   "outputs": [
    {
     "name": "stdout",
     "output_type": "stream",
     "text": [
      "5\n",
      "1\n"
     ]
    }
   ],
   "source": [
    "#https://www.acmicpc.net/problem/2839\n",
    "\n",
    "n = int(input())\n",
    "cnt = -1\n",
    "\n",
    "if n%5 == 0:\n",
    "    cnt = n//5\n",
    "else:\n",
    "    for i in range(n//5, 0, -1):\n",
    "        temp = n\n",
    "        \n",
    "        temp = temp-i*5\n",
    "        if temp%3 == 0:\n",
    "            cnt = i + temp//3\n",
    "            break\n",
    "\n",
    "if cnt == -1:\n",
    "    if n%3 == 0:\n",
    "        cnt = n//3\n",
    "print(cnt)"
   ]
  },
  {
   "cell_type": "code",
   "execution_count": null,
   "id": "eca36b7a",
   "metadata": {},
   "outputs": [],
   "source": []
  },
  {
   "cell_type": "code",
   "execution_count": null,
   "id": "6505d6fc",
   "metadata": {},
   "outputs": [],
   "source": [
    "5\n"
   ]
  }
 ],
 "metadata": {
  "kernelspec": {
   "display_name": "Python 3 (ipykernel)",
   "language": "python",
   "name": "python3"
  },
  "language_info": {
   "codemirror_mode": {
    "name": "ipython",
    "version": 3
   },
   "file_extension": ".py",
   "mimetype": "text/x-python",
   "name": "python",
   "nbconvert_exporter": "python",
   "pygments_lexer": "ipython3",
   "version": "3.9.7"
  }
 },
 "nbformat": 4,
 "nbformat_minor": 5
}
