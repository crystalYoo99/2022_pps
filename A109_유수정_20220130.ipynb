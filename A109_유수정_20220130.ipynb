{
 "cells": [
  {
   "cell_type": "code",
   "execution_count": 6,
   "id": "1d96068b",
   "metadata": {},
   "outputs": [
    {
     "name": "stdout",
     "output_type": "stream",
     "text": [
      "4\n",
      "1 10 1\n",
      "2 1 1\n",
      "5 6 0\n",
      "3 2 0\n",
      "0 4\n"
     ]
    }
   ],
   "source": [
    "n = int(input())\n",
    "a = [0 for i in range(n)]\n",
    "b = [0 for i in range(n)]\n",
    "s = [0 for i in range(n)]\n",
    "final_s = 0\n",
    "\n",
    "a[0], b[0], s[0] = map(int, input().split())\n",
    "final_s = s[0]\n",
    "for i in range(1, n):\n",
    "    a[i], b[i], s[i] = map(int, input().split())\n",
    "    temp = b[i-1]/a[i]\n",
    "    a[i] = a[i] * temp\n",
    "    b[i] = b[i] * temp\n",
    "    if s[i] == 1:\n",
    "        final_s = 1-final_s\n",
    "print(\"%d %d\"%(final_s, int(b[n-1])))\n",
    "\n"
   ]
  },
  {
   "cell_type": "code",
   "execution_count": null,
   "id": "e007546e",
   "metadata": {},
   "outputs": [],
   "source": []
  }
 ],
 "metadata": {
  "kernelspec": {
   "display_name": "Python 3 (ipykernel)",
   "language": "python",
   "name": "python3"
  },
  "language_info": {
   "codemirror_mode": {
    "name": "ipython",
    "version": 3
   },
   "file_extension": ".py",
   "mimetype": "text/x-python",
   "name": "python",
   "nbconvert_exporter": "python",
   "pygments_lexer": "ipython3",
   "version": "3.9.7"
  }
 },
 "nbformat": 4,
 "nbformat_minor": 5
}
