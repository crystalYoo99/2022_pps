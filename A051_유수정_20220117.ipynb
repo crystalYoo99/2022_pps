{
 "cells": [
  {
   "cell_type": "code",
   "execution_count": 23,
   "id": "619d5056",
   "metadata": {},
   "outputs": [
    {
     "name": "stdout",
     "output_type": "stream",
     "text": [
      "UNUCIC\n",
      "36\n"
     ]
    }
   ],
   "source": [
    "#https://www.acmicpc.net/problem/5622\n",
    "s = input()\n",
    "total = 0\n",
    "for i in range(len(s)):\n",
    "    ascii_num = ord(s[i])-65\n",
    "    if(ascii_num <= 17):\n",
    "        num = (ascii_num//3+2)\n",
    "    elif(ascii_num <= 24):\n",
    "        num = (ascii_num-1)//3 + 2\n",
    "    elif(ascii_num == 25):\n",
    "        num = 9\n",
    "    total += (2+num-1)\n",
    "print(total)"
   ]
  },
  {
   "cell_type": "code",
   "execution_count": null,
   "id": "2ed103cf",
   "metadata": {},
   "outputs": [],
   "source": []
  }
 ],
 "metadata": {
  "kernelspec": {
   "display_name": "Python 3 (ipykernel)",
   "language": "python",
   "name": "python3"
  },
  "language_info": {
   "codemirror_mode": {
    "name": "ipython",
    "version": 3
   },
   "file_extension": ".py",
   "mimetype": "text/x-python",
   "name": "python",
   "nbconvert_exporter": "python",
   "pygments_lexer": "ipython3",
   "version": "3.9.7"
  }
 },
 "nbformat": 4,
 "nbformat_minor": 5
}
