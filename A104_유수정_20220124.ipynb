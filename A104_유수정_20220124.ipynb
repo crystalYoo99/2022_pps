{
 "cells": [
  {
   "cell_type": "code",
   "execution_count": null,
   "id": "72396fe3",
   "metadata": {},
   "outputs": [],
   "source": [
    "n= int(input())\n",
    "l = list(map(int, input().split()))\n",
    "\n",
    "l_sum = sum(l)\n",
    "l_max = max(l)\n",
    "\n",
    "print(l_sum - l_max)"
   ]
  }
 ],
 "metadata": {
  "kernelspec": {
   "display_name": "Python 3 (ipykernel)",
   "language": "python",
   "name": "python3"
  },
  "language_info": {
   "codemirror_mode": {
    "name": "ipython",
    "version": 3
   },
   "file_extension": ".py",
   "mimetype": "text/x-python",
   "name": "python",
   "nbconvert_exporter": "python",
   "pygments_lexer": "ipython3",
   "version": "3.9.7"
  }
 },
 "nbformat": 4,
 "nbformat_minor": 5
}
