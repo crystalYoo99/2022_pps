{
 "cells": [
  {
   "cell_type": "code",
   "execution_count": 28,
   "id": "248565fe",
   "metadata": {},
   "outputs": [
    {
     "name": "stdout",
     "output_type": "stream",
     "text": [
      "7\n",
      "pop\n",
      "-1\n",
      "top\n",
      "-1\n",
      "push 123\n",
      "top\n",
      "123\n",
      "pop\n",
      "123\n",
      "top\n",
      "-1\n",
      "pop\n",
      "-1\n"
     ]
    }
   ],
   "source": [
    "import sys\n",
    "#read 20\n",
    "l = []\n",
    "num = int(input())\n",
    "for i in range(num):\n",
    "    a = sys.stdin.readline()\n",
    "    \n",
    "    #push\n",
    "    if a[0] == 'p' and a[1] == 'u':\n",
    "        i, x = a.split()\n",
    "        l.append(int(x))\n",
    "    #pop\n",
    "    elif a[0] == 'p':\n",
    "        if len(l) == 0:\n",
    "            print(-1)\n",
    "        else:\n",
    "            print(l.pop())\n",
    "    #size\n",
    "    elif a[0] == 's':\n",
    "        print(len(l))\n",
    "    #empty\n",
    "    elif a[0] == 'e':\n",
    "        if len(l) == 0:\n",
    "            print(1)\n",
    "        else:\n",
    "            print(0)\n",
    "    #top\n",
    "    else:\n",
    "        if len(l) == 0:\n",
    "            print(-1)\n",
    "        else:\n",
    "            print(l[len(l)-1])\n",
    "    "
   ]
  },
  {
   "cell_type": "code",
   "execution_count": null,
   "id": "4d1080ff",
   "metadata": {},
   "outputs": [],
   "source": []
  },
  {
   "cell_type": "code",
   "execution_count": null,
   "id": "8ddf9409",
   "metadata": {},
   "outputs": [],
   "source": []
  }
 ],
 "metadata": {
  "kernelspec": {
   "display_name": "Python 3 (ipykernel)",
   "language": "python",
   "name": "python3"
  },
  "language_info": {
   "codemirror_mode": {
    "name": "ipython",
    "version": 3
   },
   "file_extension": ".py",
   "mimetype": "text/x-python",
   "name": "python",
   "nbconvert_exporter": "python",
   "pygments_lexer": "ipython3",
   "version": "3.9.7"
  }
 },
 "nbformat": 4,
 "nbformat_minor": 5
}
