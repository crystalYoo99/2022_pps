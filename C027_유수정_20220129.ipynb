{
 "cells": [
  {
   "cell_type": "code",
   "execution_count": 14,
   "id": "6260670a",
   "metadata": {},
   "outputs": [
    {
     "name": "stdout",
     "output_type": "stream",
     "text": [
      "1 16 16\n",
      "16\n"
     ]
    }
   ],
   "source": [
    "e, s, m = map(int, input().split())\n",
    "cnt = 1\n",
    "e_t = 1\n",
    "s_t = 1\n",
    "m_t = 1\n",
    "\n",
    "while True:\n",
    "    if e_t == e and s_t == s and m_t == m:\n",
    "        break\n",
    "    if cnt >= 7980:\n",
    "        break\n",
    "    e_t += 1\n",
    "    s_t += 1\n",
    "    m_t += 1\n",
    "    cnt += 1\n",
    "    \n",
    "    if e_t == 16:\n",
    "        e_t = 1\n",
    "    if s_t == 29:\n",
    "        s_t = 1\n",
    "    if m_t == 20:\n",
    "        m_t = 1\n",
    "    \n",
    "    \n",
    "print(cnt)"
   ]
  },
  {
   "cell_type": "code",
   "execution_count": null,
   "id": "a0011834",
   "metadata": {},
   "outputs": [],
   "source": []
  }
 ],
 "metadata": {
  "kernelspec": {
   "display_name": "Python 3 (ipykernel)",
   "language": "python",
   "name": "python3"
  },
  "language_info": {
   "codemirror_mode": {
    "name": "ipython",
    "version": 3
   },
   "file_extension": ".py",
   "mimetype": "text/x-python",
   "name": "python",
   "nbconvert_exporter": "python",
   "pygments_lexer": "ipython3",
   "version": "3.9.7"
  }
 },
 "nbformat": 4,
 "nbformat_minor": 5
}
