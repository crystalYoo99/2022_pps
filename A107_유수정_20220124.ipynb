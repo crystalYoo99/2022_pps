{
 "cells": [
  {
   "cell_type": "code",
   "execution_count": 2,
   "id": "4bef2ae9",
   "metadata": {},
   "outputs": [
    {
     "name": "stdout",
     "output_type": "stream",
     "text": [
      "3 7\n",
      "15\n"
     ]
    }
   ],
   "source": [
    "#https://www.acmicpc.net/problem/1292\n",
    "a, b = map(int, input().split())\n",
    "l = [0 for i in range(b)]\n",
    "cnt = 0\n",
    "n = 1\n",
    "ans = 0\n",
    "for i in range(b):\n",
    "    l[i] = n\n",
    "    cnt += 1\n",
    "    if n == cnt:\n",
    "        n += 1\n",
    "        cnt = 0\n",
    "for i in range(a-1, b):\n",
    "    ans += l[i]\n",
    "print(ans)"
   ]
  },
  {
   "cell_type": "code",
   "execution_count": null,
   "id": "b34c7c39",
   "metadata": {},
   "outputs": [],
   "source": []
  }
 ],
 "metadata": {
  "kernelspec": {
   "display_name": "Python 3 (ipykernel)",
   "language": "python",
   "name": "python3"
  },
  "language_info": {
   "codemirror_mode": {
    "name": "ipython",
    "version": 3
   },
   "file_extension": ".py",
   "mimetype": "text/x-python",
   "name": "python",
   "nbconvert_exporter": "python",
   "pygments_lexer": "ipython3",
   "version": "3.9.7"
  }
 },
 "nbformat": 4,
 "nbformat_minor": 5
}
