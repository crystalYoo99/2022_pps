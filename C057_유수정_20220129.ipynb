{
 "cells": [
  {
   "cell_type": "code",
   "execution_count": 17,
   "id": "97eb0708",
   "metadata": {},
   "outputs": [
    {
     "name": "stdout",
     "output_type": "stream",
     "text": [
      "13\n",
      "bt\n",
      "i\n",
      "wont\n",
      "hesitate\n",
      "no\n",
      "more\n",
      "no\n",
      "more\n",
      "it\n",
      "cannot\n",
      "wait\n",
      "im\n",
      "yours\n",
      "['i', 'bt', 'im', 'it', 'no', 'more', 'wait', 'wont', 'yours', 'cannot', 'hesitate']\n"
     ]
    }
   ],
   "source": [
    "#https://www.acmicpc.net/problem/1181\n",
    "n = int(input())\n",
    "s = []\n",
    "for i in range(n):\n",
    "    s.append(input())\n",
    "s = set(s)\n",
    "s = list(s)\n",
    "s.sort()\n",
    "s.sort(key = lambda x: len(x))\n",
    "\n",
    "for word in s:\n",
    "    print(word)"
   ]
  },
  {
   "cell_type": "markdown",
   "id": "2a4c8589",
   "metadata": {},
   "source": []
  }
 ],
 "metadata": {
  "kernelspec": {
   "display_name": "Python 3 (ipykernel)",
   "language": "python",
   "name": "python3"
  },
  "language_info": {
   "codemirror_mode": {
    "name": "ipython",
    "version": 3
   },
   "file_extension": ".py",
   "mimetype": "text/x-python",
   "name": "python",
   "nbconvert_exporter": "python",
   "pygments_lexer": "ipython3",
   "version": "3.9.7"
  }
 },
 "nbformat": 4,
 "nbformat_minor": 5
}
