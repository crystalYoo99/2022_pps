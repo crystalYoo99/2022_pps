{
 "cells": [
  {
   "cell_type": "code",
   "execution_count": 10,
   "id": "08400762",
   "metadata": {},
   "outputs": [
    {
     "name": "stdout",
     "output_type": "stream",
     "text": [
      "2 1\n",
      "0.70 0.30 0.50 0.50\n",
      "600\n",
      "400\n"
     ]
    }
   ],
   "source": [
    "n, now = map(int, input().split())\n",
    "l = list(map(float, input().split()))\n",
    "bad = 0.0\n",
    "good = 0.0\n",
    "\n",
    "if now == 0:\n",
    "    good = 1.0\n",
    "else:\n",
    "    bad = 1.0\n",
    "    \n",
    "g_g = l[0]\n",
    "g_b = l[1]\n",
    "b_g = l[2]\n",
    "b_b = l[3]\n",
    "\n",
    "for i in range(n):\n",
    "    prev_good = good\n",
    "    good = good * g_g + bad * b_g\n",
    "    bad = prev_good * g_b + bad * b_b\n",
    "\n",
    "print(int(good * 1000))\n",
    "print(int(bad * 1000))\n",
    "        "
   ]
  },
  {
   "cell_type": "code",
   "execution_count": null,
   "id": "f6915938",
   "metadata": {},
   "outputs": [],
   "source": []
  }
 ],
 "metadata": {
  "kernelspec": {
   "display_name": "Python 3 (ipykernel)",
   "language": "python",
   "name": "python3"
  },
  "language_info": {
   "codemirror_mode": {
    "name": "ipython",
    "version": 3
   },
   "file_extension": ".py",
   "mimetype": "text/x-python",
   "name": "python",
   "nbconvert_exporter": "python",
   "pygments_lexer": "ipython3",
   "version": "3.9.7"
  }
 },
 "nbformat": 4,
 "nbformat_minor": 5
}
