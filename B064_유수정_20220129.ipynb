{
 "cells": [
  {
   "cell_type": "code",
   "execution_count": 7,
   "id": "7d25f587",
   "metadata": {},
   "outputs": [
    {
     "name": "stdout",
     "output_type": "stream",
     "text": [
      "9\n",
      "5 12 7 10 9 1 2 3 11\n",
      "13\n",
      "3\n"
     ]
    }
   ],
   "source": [
    "n = int(input())\n",
    "l = list(map(int, input().split()))\n",
    "x = int(input())\n",
    "cnt = 0\n",
    "\n",
    "l.sort()\n",
    "left = 0\n",
    "right = n-1\n",
    "\n",
    "while True:\n",
    "    if l[left] + l[right] == x:\n",
    "        cnt += 1\n",
    "        right -= 1\n",
    "    elif l[left] + l[right] > x:\n",
    "        right -= 1\n",
    "    else:\n",
    "        left += 1\n",
    "    if left >= right:\n",
    "        break\n",
    "    \n",
    "print(cnt)"
   ]
  },
  {
   "cell_type": "code",
   "execution_count": null,
   "id": "c2e95aeb",
   "metadata": {},
   "outputs": [],
   "source": []
  }
 ],
 "metadata": {
  "kernelspec": {
   "display_name": "Python 3 (ipykernel)",
   "language": "python",
   "name": "python3"
  },
  "language_info": {
   "codemirror_mode": {
    "name": "ipython",
    "version": 3
   },
   "file_extension": ".py",
   "mimetype": "text/x-python",
   "name": "python",
   "nbconvert_exporter": "python",
   "pygments_lexer": "ipython3",
   "version": "3.9.7"
  }
 },
 "nbformat": 4,
 "nbformat_minor": 5
}
