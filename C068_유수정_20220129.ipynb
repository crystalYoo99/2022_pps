{
 "cells": [
  {
   "cell_type": "code",
   "execution_count": 3,
   "id": "3a74ac16",
   "metadata": {},
   "outputs": [
    {
     "name": "stdout",
     "output_type": "stream",
     "text": [
      "5\n",
      "55 185\n",
      "58 183\n",
      "88 186\n",
      "60 175\n",
      "46 155\n",
      "[[55, 185], [58, 183], [88, 186], [60, 175], [46, 155]]\n",
      "1\n",
      "1\n",
      "0\n",
      "1\n",
      "4\n"
     ]
    }
   ],
   "source": [
    "#https://www.acmicpc.net/problem/7568\n",
    "n = int(input())\n",
    "l = []\n",
    "for i in range(n):\n",
    "    x, y = list(map(int, input().split()))\n",
    "    l.append([x, y])\n",
    "\n",
    "for i in range(n):\n",
    "    cnt = 0\n",
    "    for j in range(n):\n",
    "        if l[i][0] < l[j][0] and l[i][1] < l[j][1]:\n",
    "            cnt += 1\n",
    "    print(cnt+1)"
   ]
  },
  {
   "cell_type": "code",
   "execution_count": null,
   "id": "1f052eec",
   "metadata": {},
   "outputs": [],
   "source": []
  }
 ],
 "metadata": {
  "kernelspec": {
   "display_name": "Python 3 (ipykernel)",
   "language": "python",
   "name": "python3"
  },
  "language_info": {
   "codemirror_mode": {
    "name": "ipython",
    "version": 3
   },
   "file_extension": ".py",
   "mimetype": "text/x-python",
   "name": "python",
   "nbconvert_exporter": "python",
   "pygments_lexer": "ipython3",
   "version": "3.9.7"
  }
 },
 "nbformat": 4,
 "nbformat_minor": 5
}
