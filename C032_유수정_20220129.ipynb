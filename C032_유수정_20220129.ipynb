{
 "cells": [
  {
   "cell_type": "code",
   "execution_count": 9,
   "id": "8f7532d4",
   "metadata": {},
   "outputs": [
    {
     "name": "stdout",
     "output_type": "stream",
     "text": [
      "58\n",
      "5\n"
     ]
    }
   ],
   "source": [
    "#https://www.acmicpc.net/problem/2292\n",
    "\n",
    "#1: 1(0) / 2: 6(6)(2~7) / 3 : 12(18)(8~19) / 4: 18(36)(20~37)\n",
    "\n",
    "n = int(input())\n",
    "cnt = 1\n",
    "temp = 6\n",
    "\n",
    "while n-1 > 0:\n",
    "    n -= temp\n",
    "    cnt += 1\n",
    "    temp = temp + 6\n",
    "    if n-1 <= 0:\n",
    "        break;\n",
    "    \n",
    "print(cnt)"
   ]
  },
  {
   "cell_type": "code",
   "execution_count": 2,
   "id": "c2967865",
   "metadata": {},
   "outputs": [
    {
     "data": {
      "text/plain": [
       "2"
      ]
     },
     "execution_count": 2,
     "metadata": {},
     "output_type": "execute_result"
    }
   ],
   "source": [
    "while 1:\n",
    "    if n < 6:\n",
    "        break;\n",
    "    n = n//6"
   ]
  },
  {
   "cell_type": "code",
   "execution_count": 3,
   "id": "608dbbae",
   "metadata": {},
   "outputs": [
    {
     "data": {
      "text/plain": [
       "9"
      ]
     },
     "execution_count": 3,
     "metadata": {},
     "output_type": "execute_result"
    }
   ],
   "source": [
    "(58-1)//6"
   ]
  },
  {
   "cell_type": "code",
   "execution_count": null,
   "id": "70c910ab",
   "metadata": {},
   "outputs": [],
   "source": []
  }
 ],
 "metadata": {
  "kernelspec": {
   "display_name": "Python 3 (ipykernel)",
   "language": "python",
   "name": "python3"
  },
  "language_info": {
   "codemirror_mode": {
    "name": "ipython",
    "version": 3
   },
   "file_extension": ".py",
   "mimetype": "text/x-python",
   "name": "python",
   "nbconvert_exporter": "python",
   "pygments_lexer": "ipython3",
   "version": "3.9.7"
  }
 },
 "nbformat": 4,
 "nbformat_minor": 5
}
