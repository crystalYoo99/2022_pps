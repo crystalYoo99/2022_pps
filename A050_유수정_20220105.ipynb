{
 "cells": [
  {
   "cell_type": "code",
   "execution_count": 29,
   "id": "73a1517a",
   "metadata": {},
   "outputs": [
    {
     "name": "stdout",
     "output_type": "stream",
     "text": [
      "ABC\n",
      "XYZ"
     ]
    }
   ],
   "source": [
    "s = input()\n",
    "\n",
    "for ch in s:\n",
    "    temp = ord(ch)\n",
    "    temp -= 3\n",
    "    if temp < 65:\n",
    "        temp += 89\n",
    "    if temp > 90:\n",
    "        temp -= 63\n",
    "    print(chr(temp), end='')\n",
    "    "
   ]
  }
 ],
 "metadata": {
  "kernelspec": {
   "display_name": "Python 3 (ipykernel)",
   "language": "python",
   "name": "python3"
  },
  "language_info": {
   "codemirror_mode": {
    "name": "ipython",
    "version": 3
   },
   "file_extension": ".py",
   "mimetype": "text/x-python",
   "name": "python",
   "nbconvert_exporter": "python",
   "pygments_lexer": "ipython3",
   "version": "3.9.7"
  }
 },
 "nbformat": 4,
 "nbformat_minor": 5
}
