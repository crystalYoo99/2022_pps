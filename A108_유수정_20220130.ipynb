{
 "cells": [
  {
   "cell_type": "code",
   "execution_count": 11,
   "id": "1a0fb855",
   "metadata": {},
   "outputs": [
    {
     "name": "stdout",
     "output_type": "stream",
     "text": [
      "4\n",
      "13\n",
      "YES\n",
      "58\n",
      "NO\n",
      "120\n",
      "YES\n",
      "5056\n",
      "NO\n"
     ]
    }
   ],
   "source": [
    "n = int(input())\n",
    "for i in range(n):\n",
    "    l = input()\n",
    "    fn = int(l)\n",
    "    bn = 0\n",
    "    for j in range(len(l)-1, -1, -1):\n",
    "        bn += int(l[j])\n",
    "        if j != 0 and l[j] == 0:\n",
    "            bn *= 10\n",
    "        elif j != 0:\n",
    "            bn *= 10\n",
    "    \n",
    "    num = fn+bn\n",
    "    num = str(num)\n",
    "    flag = 0\n",
    "    for j in range((int)(len(num)/2)):\n",
    "        if num[j] != num[len(num)-j-1]:\n",
    "            flag = 1\n",
    "            break\n",
    "    if flag == 0:\n",
    "        print(\"YES\")\n",
    "    else:\n",
    "        print(\"NO\")\n",
    "    "
   ]
  },
  {
   "cell_type": "markdown",
   "id": "0063822a",
   "metadata": {},
   "source": [
    "#### "
   ]
  }
 ],
 "metadata": {
  "kernelspec": {
   "display_name": "Python 3 (ipykernel)",
   "language": "python",
   "name": "python3"
  },
  "language_info": {
   "codemirror_mode": {
    "name": "ipython",
    "version": 3
   },
   "file_extension": ".py",
   "mimetype": "text/x-python",
   "name": "python",
   "nbconvert_exporter": "python",
   "pygments_lexer": "ipython3",
   "version": "3.9.7"
  }
 },
 "nbformat": 4,
 "nbformat_minor": 5
}
