{
 "cells": [
  {
   "cell_type": "code",
   "execution_count": 21,
   "id": "7ce8f2d2",
   "metadata": {},
   "outputs": [
    {
     "name": "stdout",
     "output_type": "stream",
     "text": [
      "2\n",
      "6 12 10\n",
      "402\n",
      "30 50 72\n",
      "1203\n"
     ]
    }
   ],
   "source": [
    "#https://www.acmicpc.net/problem/10250\n",
    "n = int(input())\n",
    "\n",
    "for i in range(n):\n",
    "    h, w, n = map(int, input().split())\n",
    "    weight = n//h + 1\n",
    "    height = n%h\n",
    "    if n%h == 0:\n",
    "        weight = n//h\n",
    "        height = h\n",
    "    print(height, '{0:02d}'.format(weight), sep = '')"
   ]
  },
  {
   "cell_type": "code",
   "execution_count": null,
   "id": "fe7a515a",
   "metadata": {},
   "outputs": [],
   "source": []
  }
 ],
 "metadata": {
  "kernelspec": {
   "display_name": "Python 3 (ipykernel)",
   "language": "python",
   "name": "python3"
  },
  "language_info": {
   "codemirror_mode": {
    "name": "ipython",
    "version": 3
   },
   "file_extension": ".py",
   "mimetype": "text/x-python",
   "name": "python",
   "nbconvert_exporter": "python",
   "pygments_lexer": "ipython3",
   "version": "3.9.7"
  }
 },
 "nbformat": 4,
 "nbformat_minor": 5
}
