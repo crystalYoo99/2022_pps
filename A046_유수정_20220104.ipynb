{
 "cells": [
  {
   "cell_type": "code",
   "execution_count": 19,
   "id": "5be369fd",
   "metadata": {},
   "outputs": [
    {
     "name": "stdout",
     "output_type": "stream",
     "text": [
      "18\n",
      "bab\n",
      "kek\n",
      "bor\n",
      "buk\n",
      "sar\n",
      "bal\n",
      "kru\n",
      "hre\n",
      "bes\n",
      "bok\n",
      "kra\n",
      "pec\n",
      "kla\n",
      "kuku\n",
      "sun\n",
      "kola\n",
      "kova\n",
      "pri\n",
      "bk"
     ]
    }
   ],
   "source": [
    "n = int(input())\n",
    "l = [0 for i in range(26)]\n",
    "flag = 0\n",
    "for i in range(n):\n",
    "    temp = str(input())\n",
    "    l[ord(temp[0]) - 97] += 1\n",
    "\n",
    "for i in range(26):\n",
    "    if l[i] >= 5:\n",
    "        flag = 1\n",
    "        print(chr(i+97), end = '')\n",
    "\n",
    "if flag == 0:\n",
    "    print('PREDAJA')"
   ]
  },
  {
   "cell_type": "code",
   "execution_count": null,
   "id": "250b0569",
   "metadata": {},
   "outputs": [],
   "source": []
  }
 ],
 "metadata": {
  "kernelspec": {
   "display_name": "Python 3 (ipykernel)",
   "language": "python",
   "name": "python3"
  },
  "language_info": {
   "codemirror_mode": {
    "name": "ipython",
    "version": 3
   },
   "file_extension": ".py",
   "mimetype": "text/x-python",
   "name": "python",
   "nbconvert_exporter": "python",
   "pygments_lexer": "ipython3",
   "version": "3.9.7"
  }
 },
 "nbformat": 4,
 "nbformat_minor": 5
}
