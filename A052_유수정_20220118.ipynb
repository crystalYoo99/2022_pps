{
 "cells": [
  {
   "cell_type": "code",
   "execution_count": 12,
   "id": "1e0e97de",
   "metadata": {},
   "outputs": [
    {
     "name": "stdout",
     "output_type": "stream",
     "text": [
      "5\n",
      "OOXXOXXOOO\n",
      "10\n",
      "OOXXOOXXOO\n",
      "9\n",
      "OXOXOXOXOXOXOXOX\n",
      "8\n",
      "OOOOOOOOOO\n",
      "55\n",
      "OOOOXOOOOXOOOOX\n",
      "30\n"
     ]
    }
   ],
   "source": [
    "#https://www.acmicpc.net/problem/8958\n",
    "\n",
    "n = int(input())\n",
    "\n",
    "for i in range(n):\n",
    "    text = input()\n",
    "    count = 0\n",
    "    score = 0\n",
    "    for j in range(len(text)):\n",
    "        if text[j] == 'O':\n",
    "            count+=1\n",
    "            score+=count\n",
    "        else:\n",
    "            count= 0\n",
    "    print(score)\n"
   ]
  },
  {
   "cell_type": "code",
   "execution_count": null,
   "id": "3e416412",
   "metadata": {},
   "outputs": [],
   "source": []
  }
 ],
 "metadata": {
  "kernelspec": {
   "display_name": "Python 3 (ipykernel)",
   "language": "python",
   "name": "python3"
  },
  "language_info": {
   "codemirror_mode": {
    "name": "ipython",
    "version": 3
   },
   "file_extension": ".py",
   "mimetype": "text/x-python",
   "name": "python",
   "nbconvert_exporter": "python",
   "pygments_lexer": "ipython3",
   "version": "3.9.7"
  }
 },
 "nbformat": 4,
 "nbformat_minor": 5
}
